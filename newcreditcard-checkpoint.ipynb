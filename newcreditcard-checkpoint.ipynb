{
 "cells": [
  {
   "cell_type": "code",
   "execution_count": 1,
   "id": "90f17348",
   "metadata": {},
   "outputs": [],
   "source": [
    "import pandas as pd\n",
    "import numpy as np\n",
    "import seaborn as sns\n",
    "from sklearn.model_selection import train_test_split"
   ]
  },
  {
   "cell_type": "code",
   "execution_count": 2,
   "id": "40b9732f",
   "metadata": {},
   "outputs": [],
   "source": [
    "df1 = pd.read_csv('fraudTrain.csv')\n",
    "df2 = pd.read_csv('fraudTest.csv')"
   ]
  },
  {
   "cell_type": "code",
   "execution_count": 3,
   "id": "64bd6077",
   "metadata": {},
   "outputs": [],
   "source": [
    "df = pd.concat([df1, df2], ignore_index=True)"
   ]
  },
  {
   "cell_type": "code",
   "execution_count": 4,
   "id": "c749137f",
   "metadata": {},
   "outputs": [],
   "source": [
    "df.to_csv('credit.csv', index=False)"
   ]
  },
  {
   "cell_type": "code",
   "execution_count": 5,
   "id": "e3ba10a0",
   "metadata": {},
   "outputs": [
    {
     "name": "stdout",
     "output_type": "stream",
     "text": [
      "         Unnamed: 0 trans_date_trans_time            cc_num  \\\n",
      "0                 0   2019-01-01 00:00:18  2703186189652095   \n",
      "1                 1   2019-01-01 00:00:44      630423337322   \n",
      "2                 2   2019-01-01 00:00:51    38859492057661   \n",
      "3                 3   2019-01-01 00:01:16  3534093764340240   \n",
      "4                 4   2019-01-01 00:03:06   375534208663984   \n",
      "...             ...                   ...               ...   \n",
      "1852389      555714   2020-12-31 23:59:07    30560609640617   \n",
      "1852390      555715   2020-12-31 23:59:09  3556613125071656   \n",
      "1852391      555716   2020-12-31 23:59:15  6011724471098086   \n",
      "1852392      555717   2020-12-31 23:59:24     4079773899158   \n",
      "1852393      555718   2020-12-31 23:59:34  4170689372027579   \n",
      "\n",
      "                                   merchant        category     amt  \\\n",
      "0                fraud_Rippin, Kub and Mann        misc_net    4.97   \n",
      "1           fraud_Heller, Gutmann and Zieme     grocery_pos  107.23   \n",
      "2                      fraud_Lind-Buckridge   entertainment  220.11   \n",
      "3        fraud_Kutch, Hermiston and Farrell   gas_transport   45.00   \n",
      "4                       fraud_Keeling-Crist        misc_pos   41.96   \n",
      "...                                     ...             ...     ...   \n",
      "1852389               fraud_Reilly and Sons  health_fitness   43.77   \n",
      "1852390                fraud_Hoppe-Parisian       kids_pets  111.84   \n",
      "1852391                     fraud_Rau-Robel       kids_pets   86.88   \n",
      "1852392               fraud_Breitenberg LLC          travel    7.99   \n",
      "1852393                   fraud_Dare-Marvin   entertainment   38.13   \n",
      "\n",
      "             first     last gender                        street  ...  \\\n",
      "0         Jennifer    Banks      F                561 Perry Cove  ...   \n",
      "1        Stephanie     Gill      F  43039 Riley Greens Suite 393  ...   \n",
      "2           Edward  Sanchez      M      594 White Dale Suite 530  ...   \n",
      "3           Jeremy    White      M   9443 Cynthia Court Apt. 038  ...   \n",
      "4            Tyler   Garcia      M              408 Bradley Rest  ...   \n",
      "...            ...      ...    ...                           ...  ...   \n",
      "1852389    Michael    Olson      M           558 Michael Estates  ...   \n",
      "1852390       Jose  Vasquez      M           572 Davis Mountains  ...   \n",
      "1852391        Ann   Lawson      F    144 Evans Islands Apt. 683  ...   \n",
      "1852392       Eric  Preston      M    7020 Doyle Stream Apt. 951  ...   \n",
      "1852393     Samuel     Frey      M      830 Myers Plaza Apt. 384  ...   \n",
      "\n",
      "             lat      long  city_pop                                job  \\\n",
      "0        36.0788  -81.1781      3495          Psychologist, counselling   \n",
      "1        48.8878 -118.2105       149  Special educational needs teacher   \n",
      "2        42.1808 -112.2620      4154        Nature conservation officer   \n",
      "3        46.2306 -112.1138      1939                    Patent attorney   \n",
      "4        38.4207  -79.4629        99     Dance movement psychotherapist   \n",
      "...          ...       ...       ...                                ...   \n",
      "1852389  40.4931  -91.8912       519                       Town planner   \n",
      "1852390  29.0393  -95.4401     28739                     Futures trader   \n",
      "1852391  46.1966 -118.9017      3684                           Musician   \n",
      "1852392  44.6255 -116.4493       129                       Cartographer   \n",
      "1852393  35.6665  -97.4798    116001                        Media buyer   \n",
      "\n",
      "                dob                         trans_num   unix_time  merch_lat  \\\n",
      "0        1988-03-09  0b242abb623afc578575680df30655b9  1325376018  36.011293   \n",
      "1        1978-06-21  1f76529f8574734946361c461b024d99  1325376044  49.159047   \n",
      "2        1962-01-19  a1a22d70485983eac12b5b88dad1cf95  1325376051  43.150704   \n",
      "3        1967-01-12  6b849c168bdad6f867558c3793159a81  1325376076  47.034331   \n",
      "4        1986-03-28  a41d7549acf90789359a9aa5346dcb46  1325376186  38.674999   \n",
      "...             ...                               ...         ...        ...   \n",
      "1852389  1966-02-13  9b1f753c79894c9f4b71f04581835ada  1388534347  39.946837   \n",
      "1852390  1999-12-27  2090647dac2c89a1d86c514c427f5b91  1388534349  29.661049   \n",
      "1852391  1981-11-29  6c5b7c8add471975aa0fec023b2e8408  1388534355  46.658340   \n",
      "1852392  1965-12-15  14392d723bb7737606b2700ac791b7aa  1388534364  44.470525   \n",
      "1852393  1993-05-10  1765bb45b3aa3224b4cdcb6e7a96cee3  1388534374  36.210097   \n",
      "\n",
      "         merch_long  is_fraud  \n",
      "0        -82.048315         0  \n",
      "1       -118.186462         0  \n",
      "2       -112.154481         0  \n",
      "3       -112.561071         0  \n",
      "4        -78.632459         0  \n",
      "...             ...       ...  \n",
      "1852389  -91.333331         0  \n",
      "1852390  -96.186633         0  \n",
      "1852391 -119.715054         0  \n",
      "1852392 -117.080888         0  \n",
      "1852393  -97.036372         0  \n",
      "\n",
      "[1852394 rows x 23 columns]\n"
     ]
    }
   ],
   "source": [
    "print(df)"
   ]
  },
  {
   "cell_type": "code",
   "execution_count": 6,
   "id": "efa85dac",
   "metadata": {},
   "outputs": [
    {
     "data": {
      "text/html": [
       "<div>\n",
       "<style scoped>\n",
       "    .dataframe tbody tr th:only-of-type {\n",
       "        vertical-align: middle;\n",
       "    }\n",
       "\n",
       "    .dataframe tbody tr th {\n",
       "        vertical-align: top;\n",
       "    }\n",
       "\n",
       "    .dataframe thead th {\n",
       "        text-align: right;\n",
       "    }\n",
       "</style>\n",
       "<table border=\"1\" class=\"dataframe\">\n",
       "  <thead>\n",
       "    <tr style=\"text-align: right;\">\n",
       "      <th></th>\n",
       "      <th>Unnamed: 0</th>\n",
       "      <th>trans_date_trans_time</th>\n",
       "      <th>cc_num</th>\n",
       "      <th>merchant</th>\n",
       "      <th>category</th>\n",
       "      <th>amt</th>\n",
       "      <th>first</th>\n",
       "      <th>last</th>\n",
       "      <th>gender</th>\n",
       "      <th>street</th>\n",
       "      <th>...</th>\n",
       "      <th>lat</th>\n",
       "      <th>long</th>\n",
       "      <th>city_pop</th>\n",
       "      <th>job</th>\n",
       "      <th>dob</th>\n",
       "      <th>trans_num</th>\n",
       "      <th>unix_time</th>\n",
       "      <th>merch_lat</th>\n",
       "      <th>merch_long</th>\n",
       "      <th>is_fraud</th>\n",
       "    </tr>\n",
       "  </thead>\n",
       "  <tbody>\n",
       "    <tr>\n",
       "      <th>0</th>\n",
       "      <td>0</td>\n",
       "      <td>2019-01-01 00:00:18</td>\n",
       "      <td>2703186189652095</td>\n",
       "      <td>fraud_Rippin, Kub and Mann</td>\n",
       "      <td>misc_net</td>\n",
       "      <td>4.97</td>\n",
       "      <td>Jennifer</td>\n",
       "      <td>Banks</td>\n",
       "      <td>F</td>\n",
       "      <td>561 Perry Cove</td>\n",
       "      <td>...</td>\n",
       "      <td>36.0788</td>\n",
       "      <td>-81.1781</td>\n",
       "      <td>3495</td>\n",
       "      <td>Psychologist, counselling</td>\n",
       "      <td>1988-03-09</td>\n",
       "      <td>0b242abb623afc578575680df30655b9</td>\n",
       "      <td>1325376018</td>\n",
       "      <td>36.011293</td>\n",
       "      <td>-82.048315</td>\n",
       "      <td>0</td>\n",
       "    </tr>\n",
       "    <tr>\n",
       "      <th>1</th>\n",
       "      <td>1</td>\n",
       "      <td>2019-01-01 00:00:44</td>\n",
       "      <td>630423337322</td>\n",
       "      <td>fraud_Heller, Gutmann and Zieme</td>\n",
       "      <td>grocery_pos</td>\n",
       "      <td>107.23</td>\n",
       "      <td>Stephanie</td>\n",
       "      <td>Gill</td>\n",
       "      <td>F</td>\n",
       "      <td>43039 Riley Greens Suite 393</td>\n",
       "      <td>...</td>\n",
       "      <td>48.8878</td>\n",
       "      <td>-118.2105</td>\n",
       "      <td>149</td>\n",
       "      <td>Special educational needs teacher</td>\n",
       "      <td>1978-06-21</td>\n",
       "      <td>1f76529f8574734946361c461b024d99</td>\n",
       "      <td>1325376044</td>\n",
       "      <td>49.159047</td>\n",
       "      <td>-118.186462</td>\n",
       "      <td>0</td>\n",
       "    </tr>\n",
       "    <tr>\n",
       "      <th>2</th>\n",
       "      <td>2</td>\n",
       "      <td>2019-01-01 00:00:51</td>\n",
       "      <td>38859492057661</td>\n",
       "      <td>fraud_Lind-Buckridge</td>\n",
       "      <td>entertainment</td>\n",
       "      <td>220.11</td>\n",
       "      <td>Edward</td>\n",
       "      <td>Sanchez</td>\n",
       "      <td>M</td>\n",
       "      <td>594 White Dale Suite 530</td>\n",
       "      <td>...</td>\n",
       "      <td>42.1808</td>\n",
       "      <td>-112.2620</td>\n",
       "      <td>4154</td>\n",
       "      <td>Nature conservation officer</td>\n",
       "      <td>1962-01-19</td>\n",
       "      <td>a1a22d70485983eac12b5b88dad1cf95</td>\n",
       "      <td>1325376051</td>\n",
       "      <td>43.150704</td>\n",
       "      <td>-112.154481</td>\n",
       "      <td>0</td>\n",
       "    </tr>\n",
       "    <tr>\n",
       "      <th>3</th>\n",
       "      <td>3</td>\n",
       "      <td>2019-01-01 00:01:16</td>\n",
       "      <td>3534093764340240</td>\n",
       "      <td>fraud_Kutch, Hermiston and Farrell</td>\n",
       "      <td>gas_transport</td>\n",
       "      <td>45.00</td>\n",
       "      <td>Jeremy</td>\n",
       "      <td>White</td>\n",
       "      <td>M</td>\n",
       "      <td>9443 Cynthia Court Apt. 038</td>\n",
       "      <td>...</td>\n",
       "      <td>46.2306</td>\n",
       "      <td>-112.1138</td>\n",
       "      <td>1939</td>\n",
       "      <td>Patent attorney</td>\n",
       "      <td>1967-01-12</td>\n",
       "      <td>6b849c168bdad6f867558c3793159a81</td>\n",
       "      <td>1325376076</td>\n",
       "      <td>47.034331</td>\n",
       "      <td>-112.561071</td>\n",
       "      <td>0</td>\n",
       "    </tr>\n",
       "    <tr>\n",
       "      <th>4</th>\n",
       "      <td>4</td>\n",
       "      <td>2019-01-01 00:03:06</td>\n",
       "      <td>375534208663984</td>\n",
       "      <td>fraud_Keeling-Crist</td>\n",
       "      <td>misc_pos</td>\n",
       "      <td>41.96</td>\n",
       "      <td>Tyler</td>\n",
       "      <td>Garcia</td>\n",
       "      <td>M</td>\n",
       "      <td>408 Bradley Rest</td>\n",
       "      <td>...</td>\n",
       "      <td>38.4207</td>\n",
       "      <td>-79.4629</td>\n",
       "      <td>99</td>\n",
       "      <td>Dance movement psychotherapist</td>\n",
       "      <td>1986-03-28</td>\n",
       "      <td>a41d7549acf90789359a9aa5346dcb46</td>\n",
       "      <td>1325376186</td>\n",
       "      <td>38.674999</td>\n",
       "      <td>-78.632459</td>\n",
       "      <td>0</td>\n",
       "    </tr>\n",
       "  </tbody>\n",
       "</table>\n",
       "<p>5 rows × 23 columns</p>\n",
       "</div>"
      ],
      "text/plain": [
       "   Unnamed: 0 trans_date_trans_time            cc_num  \\\n",
       "0           0   2019-01-01 00:00:18  2703186189652095   \n",
       "1           1   2019-01-01 00:00:44      630423337322   \n",
       "2           2   2019-01-01 00:00:51    38859492057661   \n",
       "3           3   2019-01-01 00:01:16  3534093764340240   \n",
       "4           4   2019-01-01 00:03:06   375534208663984   \n",
       "\n",
       "                             merchant       category     amt      first  \\\n",
       "0          fraud_Rippin, Kub and Mann       misc_net    4.97   Jennifer   \n",
       "1     fraud_Heller, Gutmann and Zieme    grocery_pos  107.23  Stephanie   \n",
       "2                fraud_Lind-Buckridge  entertainment  220.11     Edward   \n",
       "3  fraud_Kutch, Hermiston and Farrell  gas_transport   45.00     Jeremy   \n",
       "4                 fraud_Keeling-Crist       misc_pos   41.96      Tyler   \n",
       "\n",
       "      last gender                        street  ...      lat      long  \\\n",
       "0    Banks      F                561 Perry Cove  ...  36.0788  -81.1781   \n",
       "1     Gill      F  43039 Riley Greens Suite 393  ...  48.8878 -118.2105   \n",
       "2  Sanchez      M      594 White Dale Suite 530  ...  42.1808 -112.2620   \n",
       "3    White      M   9443 Cynthia Court Apt. 038  ...  46.2306 -112.1138   \n",
       "4   Garcia      M              408 Bradley Rest  ...  38.4207  -79.4629   \n",
       "\n",
       "   city_pop                                job         dob  \\\n",
       "0      3495          Psychologist, counselling  1988-03-09   \n",
       "1       149  Special educational needs teacher  1978-06-21   \n",
       "2      4154        Nature conservation officer  1962-01-19   \n",
       "3      1939                    Patent attorney  1967-01-12   \n",
       "4        99     Dance movement psychotherapist  1986-03-28   \n",
       "\n",
       "                          trans_num   unix_time  merch_lat  merch_long  \\\n",
       "0  0b242abb623afc578575680df30655b9  1325376018  36.011293  -82.048315   \n",
       "1  1f76529f8574734946361c461b024d99  1325376044  49.159047 -118.186462   \n",
       "2  a1a22d70485983eac12b5b88dad1cf95  1325376051  43.150704 -112.154481   \n",
       "3  6b849c168bdad6f867558c3793159a81  1325376076  47.034331 -112.561071   \n",
       "4  a41d7549acf90789359a9aa5346dcb46  1325376186  38.674999  -78.632459   \n",
       "\n",
       "   is_fraud  \n",
       "0         0  \n",
       "1         0  \n",
       "2         0  \n",
       "3         0  \n",
       "4         0  \n",
       "\n",
       "[5 rows x 23 columns]"
      ]
     },
     "execution_count": 6,
     "metadata": {},
     "output_type": "execute_result"
    }
   ],
   "source": [
    "df.head()"
   ]
  },
  {
   "cell_type": "code",
   "execution_count": 7,
   "id": "2cbb0d45",
   "metadata": {},
   "outputs": [
    {
     "data": {
      "text/html": [
       "<div>\n",
       "<style scoped>\n",
       "    .dataframe tbody tr th:only-of-type {\n",
       "        vertical-align: middle;\n",
       "    }\n",
       "\n",
       "    .dataframe tbody tr th {\n",
       "        vertical-align: top;\n",
       "    }\n",
       "\n",
       "    .dataframe thead th {\n",
       "        text-align: right;\n",
       "    }\n",
       "</style>\n",
       "<table border=\"1\" class=\"dataframe\">\n",
       "  <thead>\n",
       "    <tr style=\"text-align: right;\">\n",
       "      <th></th>\n",
       "      <th>Unnamed: 0</th>\n",
       "      <th>trans_date_trans_time</th>\n",
       "      <th>cc_num</th>\n",
       "      <th>merchant</th>\n",
       "      <th>category</th>\n",
       "      <th>amt</th>\n",
       "      <th>first</th>\n",
       "      <th>last</th>\n",
       "      <th>gender</th>\n",
       "      <th>street</th>\n",
       "      <th>...</th>\n",
       "      <th>lat</th>\n",
       "      <th>long</th>\n",
       "      <th>city_pop</th>\n",
       "      <th>job</th>\n",
       "      <th>dob</th>\n",
       "      <th>trans_num</th>\n",
       "      <th>unix_time</th>\n",
       "      <th>merch_lat</th>\n",
       "      <th>merch_long</th>\n",
       "      <th>is_fraud</th>\n",
       "    </tr>\n",
       "  </thead>\n",
       "  <tbody>\n",
       "    <tr>\n",
       "      <th>0</th>\n",
       "      <td>0</td>\n",
       "      <td>2019-01-01 00:00:18</td>\n",
       "      <td>2703186189652095</td>\n",
       "      <td>fraud_Rippin, Kub and Mann</td>\n",
       "      <td>misc_net</td>\n",
       "      <td>4.97</td>\n",
       "      <td>Jennifer</td>\n",
       "      <td>Banks</td>\n",
       "      <td>F</td>\n",
       "      <td>561 Perry Cove</td>\n",
       "      <td>...</td>\n",
       "      <td>36.0788</td>\n",
       "      <td>-81.1781</td>\n",
       "      <td>3495</td>\n",
       "      <td>Psychologist, counselling</td>\n",
       "      <td>1988-03-09</td>\n",
       "      <td>0b242abb623afc578575680df30655b9</td>\n",
       "      <td>1325376018</td>\n",
       "      <td>36.011293</td>\n",
       "      <td>-82.048315</td>\n",
       "      <td>0</td>\n",
       "    </tr>\n",
       "    <tr>\n",
       "      <th>1</th>\n",
       "      <td>1</td>\n",
       "      <td>2019-01-01 00:00:44</td>\n",
       "      <td>630423337322</td>\n",
       "      <td>fraud_Heller, Gutmann and Zieme</td>\n",
       "      <td>grocery_pos</td>\n",
       "      <td>107.23</td>\n",
       "      <td>Stephanie</td>\n",
       "      <td>Gill</td>\n",
       "      <td>F</td>\n",
       "      <td>43039 Riley Greens Suite 393</td>\n",
       "      <td>...</td>\n",
       "      <td>48.8878</td>\n",
       "      <td>-118.2105</td>\n",
       "      <td>149</td>\n",
       "      <td>Special educational needs teacher</td>\n",
       "      <td>1978-06-21</td>\n",
       "      <td>1f76529f8574734946361c461b024d99</td>\n",
       "      <td>1325376044</td>\n",
       "      <td>49.159047</td>\n",
       "      <td>-118.186462</td>\n",
       "      <td>0</td>\n",
       "    </tr>\n",
       "    <tr>\n",
       "      <th>2</th>\n",
       "      <td>2</td>\n",
       "      <td>2019-01-01 00:00:51</td>\n",
       "      <td>38859492057661</td>\n",
       "      <td>fraud_Lind-Buckridge</td>\n",
       "      <td>entertainment</td>\n",
       "      <td>220.11</td>\n",
       "      <td>Edward</td>\n",
       "      <td>Sanchez</td>\n",
       "      <td>M</td>\n",
       "      <td>594 White Dale Suite 530</td>\n",
       "      <td>...</td>\n",
       "      <td>42.1808</td>\n",
       "      <td>-112.2620</td>\n",
       "      <td>4154</td>\n",
       "      <td>Nature conservation officer</td>\n",
       "      <td>1962-01-19</td>\n",
       "      <td>a1a22d70485983eac12b5b88dad1cf95</td>\n",
       "      <td>1325376051</td>\n",
       "      <td>43.150704</td>\n",
       "      <td>-112.154481</td>\n",
       "      <td>0</td>\n",
       "    </tr>\n",
       "    <tr>\n",
       "      <th>3</th>\n",
       "      <td>3</td>\n",
       "      <td>2019-01-01 00:01:16</td>\n",
       "      <td>3534093764340240</td>\n",
       "      <td>fraud_Kutch, Hermiston and Farrell</td>\n",
       "      <td>gas_transport</td>\n",
       "      <td>45.00</td>\n",
       "      <td>Jeremy</td>\n",
       "      <td>White</td>\n",
       "      <td>M</td>\n",
       "      <td>9443 Cynthia Court Apt. 038</td>\n",
       "      <td>...</td>\n",
       "      <td>46.2306</td>\n",
       "      <td>-112.1138</td>\n",
       "      <td>1939</td>\n",
       "      <td>Patent attorney</td>\n",
       "      <td>1967-01-12</td>\n",
       "      <td>6b849c168bdad6f867558c3793159a81</td>\n",
       "      <td>1325376076</td>\n",
       "      <td>47.034331</td>\n",
       "      <td>-112.561071</td>\n",
       "      <td>0</td>\n",
       "    </tr>\n",
       "    <tr>\n",
       "      <th>4</th>\n",
       "      <td>4</td>\n",
       "      <td>2019-01-01 00:03:06</td>\n",
       "      <td>375534208663984</td>\n",
       "      <td>fraud_Keeling-Crist</td>\n",
       "      <td>misc_pos</td>\n",
       "      <td>41.96</td>\n",
       "      <td>Tyler</td>\n",
       "      <td>Garcia</td>\n",
       "      <td>M</td>\n",
       "      <td>408 Bradley Rest</td>\n",
       "      <td>...</td>\n",
       "      <td>38.4207</td>\n",
       "      <td>-79.4629</td>\n",
       "      <td>99</td>\n",
       "      <td>Dance movement psychotherapist</td>\n",
       "      <td>1986-03-28</td>\n",
       "      <td>a41d7549acf90789359a9aa5346dcb46</td>\n",
       "      <td>1325376186</td>\n",
       "      <td>38.674999</td>\n",
       "      <td>-78.632459</td>\n",
       "      <td>0</td>\n",
       "    </tr>\n",
       "  </tbody>\n",
       "</table>\n",
       "<p>5 rows × 23 columns</p>\n",
       "</div>"
      ],
      "text/plain": [
       "   Unnamed: 0 trans_date_trans_time            cc_num  \\\n",
       "0           0   2019-01-01 00:00:18  2703186189652095   \n",
       "1           1   2019-01-01 00:00:44      630423337322   \n",
       "2           2   2019-01-01 00:00:51    38859492057661   \n",
       "3           3   2019-01-01 00:01:16  3534093764340240   \n",
       "4           4   2019-01-01 00:03:06   375534208663984   \n",
       "\n",
       "                             merchant       category     amt      first  \\\n",
       "0          fraud_Rippin, Kub and Mann       misc_net    4.97   Jennifer   \n",
       "1     fraud_Heller, Gutmann and Zieme    grocery_pos  107.23  Stephanie   \n",
       "2                fraud_Lind-Buckridge  entertainment  220.11     Edward   \n",
       "3  fraud_Kutch, Hermiston and Farrell  gas_transport   45.00     Jeremy   \n",
       "4                 fraud_Keeling-Crist       misc_pos   41.96      Tyler   \n",
       "\n",
       "      last gender                        street  ...      lat      long  \\\n",
       "0    Banks      F                561 Perry Cove  ...  36.0788  -81.1781   \n",
       "1     Gill      F  43039 Riley Greens Suite 393  ...  48.8878 -118.2105   \n",
       "2  Sanchez      M      594 White Dale Suite 530  ...  42.1808 -112.2620   \n",
       "3    White      M   9443 Cynthia Court Apt. 038  ...  46.2306 -112.1138   \n",
       "4   Garcia      M              408 Bradley Rest  ...  38.4207  -79.4629   \n",
       "\n",
       "   city_pop                                job         dob  \\\n",
       "0      3495          Psychologist, counselling  1988-03-09   \n",
       "1       149  Special educational needs teacher  1978-06-21   \n",
       "2      4154        Nature conservation officer  1962-01-19   \n",
       "3      1939                    Patent attorney  1967-01-12   \n",
       "4        99     Dance movement psychotherapist  1986-03-28   \n",
       "\n",
       "                          trans_num   unix_time  merch_lat  merch_long  \\\n",
       "0  0b242abb623afc578575680df30655b9  1325376018  36.011293  -82.048315   \n",
       "1  1f76529f8574734946361c461b024d99  1325376044  49.159047 -118.186462   \n",
       "2  a1a22d70485983eac12b5b88dad1cf95  1325376051  43.150704 -112.154481   \n",
       "3  6b849c168bdad6f867558c3793159a81  1325376076  47.034331 -112.561071   \n",
       "4  a41d7549acf90789359a9aa5346dcb46  1325376186  38.674999  -78.632459   \n",
       "\n",
       "   is_fraud  \n",
       "0         0  \n",
       "1         0  \n",
       "2         0  \n",
       "3         0  \n",
       "4         0  \n",
       "\n",
       "[5 rows x 23 columns]"
      ]
     },
     "execution_count": 7,
     "metadata": {},
     "output_type": "execute_result"
    }
   ],
   "source": [
    "df.head()"
   ]
  },
  {
   "cell_type": "code",
   "execution_count": 8,
   "id": "d78369e5",
   "metadata": {},
   "outputs": [],
   "source": [
    "from sklearn.preprocessing import LabelEncoder\n",
    "label_encoders = {}"
   ]
  },
  {
   "cell_type": "code",
   "execution_count": 9,
   "id": "a052858d",
   "metadata": {},
   "outputs": [],
   "source": [
    "label_encode_cols = ['merchant', 'category', 'gender', 'state', 'job']\n",
    "for col in label_encode_cols:\n",
    "    le = LabelEncoder()\n",
    "    df[col] = le.fit_transform(df[col])\n",
    "    label_encoders[col] = le\n",
    "    \n",
    "    df1[col] = le.fit_transform(df1[col])\n",
    "    label_encoders[col] = le\n",
    "    \n",
    "    df2[col] = le.fit_transform(df2[col])\n",
    "    label_encoders[col] = le"
   ]
  },
  {
   "cell_type": "code",
   "execution_count": 10,
   "id": "e3ddc291",
   "metadata": {},
   "outputs": [],
   "source": [
    "df['trans_date_trans_time'] = pd.to_datetime(df['trans_date_trans_time'])\n",
    "df['dob'] = pd.to_datetime(df['dob'])"
   ]
  },
  {
   "cell_type": "code",
   "execution_count": 11,
   "id": "50bb44ec",
   "metadata": {},
   "outputs": [],
   "source": [
    "df['birth_year'] = df['dob'].dt.year\n",
    "df['birth_month'] = df['dob'].dt.month\n",
    "df['birth_day'] = df['dob'].dt.day"
   ]
  },
  {
   "cell_type": "code",
   "execution_count": 12,
   "id": "de53278a",
   "metadata": {},
   "outputs": [],
   "source": [
    "df['transaction_year'] = df['trans_date_trans_time'].dt.year\n",
    "df['transaction_month'] = df['trans_date_trans_time'].dt.month\n",
    "df['transaction_day'] = df['trans_date_trans_time'].dt.day\n",
    "df['transaction_hour'] = df['trans_date_trans_time'].dt.hour"
   ]
  },
  {
   "cell_type": "code",
   "execution_count": 13,
   "id": "7018c81c",
   "metadata": {},
   "outputs": [],
   "source": [
    "df.drop(['trans_date_trans_time', 'dob'], axis=1, inplace=True)"
   ]
  },
  {
   "cell_type": "code",
   "execution_count": 14,
   "id": "24065f2f",
   "metadata": {},
   "outputs": [
    {
     "data": {
      "text/html": [
       "<div>\n",
       "<style scoped>\n",
       "    .dataframe tbody tr th:only-of-type {\n",
       "        vertical-align: middle;\n",
       "    }\n",
       "\n",
       "    .dataframe tbody tr th {\n",
       "        vertical-align: top;\n",
       "    }\n",
       "\n",
       "    .dataframe thead th {\n",
       "        text-align: right;\n",
       "    }\n",
       "</style>\n",
       "<table border=\"1\" class=\"dataframe\">\n",
       "  <thead>\n",
       "    <tr style=\"text-align: right;\">\n",
       "      <th></th>\n",
       "      <th>Unnamed: 0</th>\n",
       "      <th>cc_num</th>\n",
       "      <th>merchant</th>\n",
       "      <th>category</th>\n",
       "      <th>amt</th>\n",
       "      <th>first</th>\n",
       "      <th>last</th>\n",
       "      <th>gender</th>\n",
       "      <th>street</th>\n",
       "      <th>city</th>\n",
       "      <th>...</th>\n",
       "      <th>merch_lat</th>\n",
       "      <th>merch_long</th>\n",
       "      <th>is_fraud</th>\n",
       "      <th>birth_year</th>\n",
       "      <th>birth_month</th>\n",
       "      <th>birth_day</th>\n",
       "      <th>transaction_year</th>\n",
       "      <th>transaction_month</th>\n",
       "      <th>transaction_day</th>\n",
       "      <th>transaction_hour</th>\n",
       "    </tr>\n",
       "  </thead>\n",
       "  <tbody>\n",
       "    <tr>\n",
       "      <th>0</th>\n",
       "      <td>0</td>\n",
       "      <td>2703186189652095</td>\n",
       "      <td>514</td>\n",
       "      <td>8</td>\n",
       "      <td>4.97</td>\n",
       "      <td>Jennifer</td>\n",
       "      <td>Banks</td>\n",
       "      <td>0</td>\n",
       "      <td>561 Perry Cove</td>\n",
       "      <td>Moravian Falls</td>\n",
       "      <td>...</td>\n",
       "      <td>36.011293</td>\n",
       "      <td>-82.048315</td>\n",
       "      <td>0</td>\n",
       "      <td>1988</td>\n",
       "      <td>3</td>\n",
       "      <td>9</td>\n",
       "      <td>2019</td>\n",
       "      <td>1</td>\n",
       "      <td>1</td>\n",
       "      <td>0</td>\n",
       "    </tr>\n",
       "    <tr>\n",
       "      <th>1</th>\n",
       "      <td>1</td>\n",
       "      <td>630423337322</td>\n",
       "      <td>241</td>\n",
       "      <td>4</td>\n",
       "      <td>107.23</td>\n",
       "      <td>Stephanie</td>\n",
       "      <td>Gill</td>\n",
       "      <td>0</td>\n",
       "      <td>43039 Riley Greens Suite 393</td>\n",
       "      <td>Orient</td>\n",
       "      <td>...</td>\n",
       "      <td>49.159047</td>\n",
       "      <td>-118.186462</td>\n",
       "      <td>0</td>\n",
       "      <td>1978</td>\n",
       "      <td>6</td>\n",
       "      <td>21</td>\n",
       "      <td>2019</td>\n",
       "      <td>1</td>\n",
       "      <td>1</td>\n",
       "      <td>0</td>\n",
       "    </tr>\n",
       "    <tr>\n",
       "      <th>2</th>\n",
       "      <td>2</td>\n",
       "      <td>38859492057661</td>\n",
       "      <td>390</td>\n",
       "      <td>0</td>\n",
       "      <td>220.11</td>\n",
       "      <td>Edward</td>\n",
       "      <td>Sanchez</td>\n",
       "      <td>1</td>\n",
       "      <td>594 White Dale Suite 530</td>\n",
       "      <td>Malad City</td>\n",
       "      <td>...</td>\n",
       "      <td>43.150704</td>\n",
       "      <td>-112.154481</td>\n",
       "      <td>0</td>\n",
       "      <td>1962</td>\n",
       "      <td>1</td>\n",
       "      <td>19</td>\n",
       "      <td>2019</td>\n",
       "      <td>1</td>\n",
       "      <td>1</td>\n",
       "      <td>0</td>\n",
       "    </tr>\n",
       "    <tr>\n",
       "      <th>3</th>\n",
       "      <td>3</td>\n",
       "      <td>3534093764340240</td>\n",
       "      <td>360</td>\n",
       "      <td>2</td>\n",
       "      <td>45.00</td>\n",
       "      <td>Jeremy</td>\n",
       "      <td>White</td>\n",
       "      <td>1</td>\n",
       "      <td>9443 Cynthia Court Apt. 038</td>\n",
       "      <td>Boulder</td>\n",
       "      <td>...</td>\n",
       "      <td>47.034331</td>\n",
       "      <td>-112.561071</td>\n",
       "      <td>0</td>\n",
       "      <td>1967</td>\n",
       "      <td>1</td>\n",
       "      <td>12</td>\n",
       "      <td>2019</td>\n",
       "      <td>1</td>\n",
       "      <td>1</td>\n",
       "      <td>0</td>\n",
       "    </tr>\n",
       "    <tr>\n",
       "      <th>4</th>\n",
       "      <td>4</td>\n",
       "      <td>375534208663984</td>\n",
       "      <td>297</td>\n",
       "      <td>9</td>\n",
       "      <td>41.96</td>\n",
       "      <td>Tyler</td>\n",
       "      <td>Garcia</td>\n",
       "      <td>1</td>\n",
       "      <td>408 Bradley Rest</td>\n",
       "      <td>Doe Hill</td>\n",
       "      <td>...</td>\n",
       "      <td>38.674999</td>\n",
       "      <td>-78.632459</td>\n",
       "      <td>0</td>\n",
       "      <td>1986</td>\n",
       "      <td>3</td>\n",
       "      <td>28</td>\n",
       "      <td>2019</td>\n",
       "      <td>1</td>\n",
       "      <td>1</td>\n",
       "      <td>0</td>\n",
       "    </tr>\n",
       "  </tbody>\n",
       "</table>\n",
       "<p>5 rows × 28 columns</p>\n",
       "</div>"
      ],
      "text/plain": [
       "   Unnamed: 0            cc_num  merchant  category     amt      first  \\\n",
       "0           0  2703186189652095       514         8    4.97   Jennifer   \n",
       "1           1      630423337322       241         4  107.23  Stephanie   \n",
       "2           2    38859492057661       390         0  220.11     Edward   \n",
       "3           3  3534093764340240       360         2   45.00     Jeremy   \n",
       "4           4   375534208663984       297         9   41.96      Tyler   \n",
       "\n",
       "      last  gender                        street            city  ...  \\\n",
       "0    Banks       0                561 Perry Cove  Moravian Falls  ...   \n",
       "1     Gill       0  43039 Riley Greens Suite 393          Orient  ...   \n",
       "2  Sanchez       1      594 White Dale Suite 530      Malad City  ...   \n",
       "3    White       1   9443 Cynthia Court Apt. 038         Boulder  ...   \n",
       "4   Garcia       1              408 Bradley Rest        Doe Hill  ...   \n",
       "\n",
       "   merch_lat  merch_long  is_fraud  birth_year  birth_month  birth_day  \\\n",
       "0  36.011293  -82.048315         0        1988            3          9   \n",
       "1  49.159047 -118.186462         0        1978            6         21   \n",
       "2  43.150704 -112.154481         0        1962            1         19   \n",
       "3  47.034331 -112.561071         0        1967            1         12   \n",
       "4  38.674999  -78.632459         0        1986            3         28   \n",
       "\n",
       "  transaction_year  transaction_month  transaction_day  transaction_hour  \n",
       "0             2019                  1                1                 0  \n",
       "1             2019                  1                1                 0  \n",
       "2             2019                  1                1                 0  \n",
       "3             2019                  1                1                 0  \n",
       "4             2019                  1                1                 0  \n",
       "\n",
       "[5 rows x 28 columns]"
      ]
     },
     "execution_count": 14,
     "metadata": {},
     "output_type": "execute_result"
    }
   ],
   "source": [
    "df.head()"
   ]
  },
  {
   "cell_type": "code",
   "execution_count": 15,
   "id": "6e668e29",
   "metadata": {},
   "outputs": [],
   "source": [
    "df.drop(['first', 'last', 'street', 'city', 'trans_num'], axis=1, inplace=True)\n",
    "df1.drop(['first', 'last', 'street', 'city', 'trans_num'], axis=1, inplace=True)\n",
    "df2.drop(['first', 'last', 'street', 'city', 'trans_num'], axis=1, inplace=True)"
   ]
  },
  {
   "cell_type": "code",
   "execution_count": 16,
   "id": "a20989ac",
   "metadata": {},
   "outputs": [
    {
     "data": {
      "text/html": [
       "<div>\n",
       "<style scoped>\n",
       "    .dataframe tbody tr th:only-of-type {\n",
       "        vertical-align: middle;\n",
       "    }\n",
       "\n",
       "    .dataframe tbody tr th {\n",
       "        vertical-align: top;\n",
       "    }\n",
       "\n",
       "    .dataframe thead th {\n",
       "        text-align: right;\n",
       "    }\n",
       "</style>\n",
       "<table border=\"1\" class=\"dataframe\">\n",
       "  <thead>\n",
       "    <tr style=\"text-align: right;\">\n",
       "      <th></th>\n",
       "      <th>Unnamed: 0</th>\n",
       "      <th>cc_num</th>\n",
       "      <th>merchant</th>\n",
       "      <th>category</th>\n",
       "      <th>amt</th>\n",
       "      <th>gender</th>\n",
       "      <th>state</th>\n",
       "      <th>zip</th>\n",
       "      <th>lat</th>\n",
       "      <th>long</th>\n",
       "      <th>...</th>\n",
       "      <th>merch_lat</th>\n",
       "      <th>merch_long</th>\n",
       "      <th>is_fraud</th>\n",
       "      <th>birth_year</th>\n",
       "      <th>birth_month</th>\n",
       "      <th>birth_day</th>\n",
       "      <th>transaction_year</th>\n",
       "      <th>transaction_month</th>\n",
       "      <th>transaction_day</th>\n",
       "      <th>transaction_hour</th>\n",
       "    </tr>\n",
       "  </thead>\n",
       "  <tbody>\n",
       "    <tr>\n",
       "      <th>0</th>\n",
       "      <td>0</td>\n",
       "      <td>2703186189652095</td>\n",
       "      <td>514</td>\n",
       "      <td>8</td>\n",
       "      <td>4.97</td>\n",
       "      <td>0</td>\n",
       "      <td>27</td>\n",
       "      <td>28654</td>\n",
       "      <td>36.0788</td>\n",
       "      <td>-81.1781</td>\n",
       "      <td>...</td>\n",
       "      <td>36.011293</td>\n",
       "      <td>-82.048315</td>\n",
       "      <td>0</td>\n",
       "      <td>1988</td>\n",
       "      <td>3</td>\n",
       "      <td>9</td>\n",
       "      <td>2019</td>\n",
       "      <td>1</td>\n",
       "      <td>1</td>\n",
       "      <td>0</td>\n",
       "    </tr>\n",
       "    <tr>\n",
       "      <th>1</th>\n",
       "      <td>1</td>\n",
       "      <td>630423337322</td>\n",
       "      <td>241</td>\n",
       "      <td>4</td>\n",
       "      <td>107.23</td>\n",
       "      <td>0</td>\n",
       "      <td>47</td>\n",
       "      <td>99160</td>\n",
       "      <td>48.8878</td>\n",
       "      <td>-118.2105</td>\n",
       "      <td>...</td>\n",
       "      <td>49.159047</td>\n",
       "      <td>-118.186462</td>\n",
       "      <td>0</td>\n",
       "      <td>1978</td>\n",
       "      <td>6</td>\n",
       "      <td>21</td>\n",
       "      <td>2019</td>\n",
       "      <td>1</td>\n",
       "      <td>1</td>\n",
       "      <td>0</td>\n",
       "    </tr>\n",
       "    <tr>\n",
       "      <th>2</th>\n",
       "      <td>2</td>\n",
       "      <td>38859492057661</td>\n",
       "      <td>390</td>\n",
       "      <td>0</td>\n",
       "      <td>220.11</td>\n",
       "      <td>1</td>\n",
       "      <td>13</td>\n",
       "      <td>83252</td>\n",
       "      <td>42.1808</td>\n",
       "      <td>-112.2620</td>\n",
       "      <td>...</td>\n",
       "      <td>43.150704</td>\n",
       "      <td>-112.154481</td>\n",
       "      <td>0</td>\n",
       "      <td>1962</td>\n",
       "      <td>1</td>\n",
       "      <td>19</td>\n",
       "      <td>2019</td>\n",
       "      <td>1</td>\n",
       "      <td>1</td>\n",
       "      <td>0</td>\n",
       "    </tr>\n",
       "    <tr>\n",
       "      <th>3</th>\n",
       "      <td>3</td>\n",
       "      <td>3534093764340240</td>\n",
       "      <td>360</td>\n",
       "      <td>2</td>\n",
       "      <td>45.00</td>\n",
       "      <td>1</td>\n",
       "      <td>26</td>\n",
       "      <td>59632</td>\n",
       "      <td>46.2306</td>\n",
       "      <td>-112.1138</td>\n",
       "      <td>...</td>\n",
       "      <td>47.034331</td>\n",
       "      <td>-112.561071</td>\n",
       "      <td>0</td>\n",
       "      <td>1967</td>\n",
       "      <td>1</td>\n",
       "      <td>12</td>\n",
       "      <td>2019</td>\n",
       "      <td>1</td>\n",
       "      <td>1</td>\n",
       "      <td>0</td>\n",
       "    </tr>\n",
       "    <tr>\n",
       "      <th>4</th>\n",
       "      <td>4</td>\n",
       "      <td>375534208663984</td>\n",
       "      <td>297</td>\n",
       "      <td>9</td>\n",
       "      <td>41.96</td>\n",
       "      <td>1</td>\n",
       "      <td>45</td>\n",
       "      <td>24433</td>\n",
       "      <td>38.4207</td>\n",
       "      <td>-79.4629</td>\n",
       "      <td>...</td>\n",
       "      <td>38.674999</td>\n",
       "      <td>-78.632459</td>\n",
       "      <td>0</td>\n",
       "      <td>1986</td>\n",
       "      <td>3</td>\n",
       "      <td>28</td>\n",
       "      <td>2019</td>\n",
       "      <td>1</td>\n",
       "      <td>1</td>\n",
       "      <td>0</td>\n",
       "    </tr>\n",
       "  </tbody>\n",
       "</table>\n",
       "<p>5 rows × 23 columns</p>\n",
       "</div>"
      ],
      "text/plain": [
       "   Unnamed: 0            cc_num  merchant  category     amt  gender  state  \\\n",
       "0           0  2703186189652095       514         8    4.97       0     27   \n",
       "1           1      630423337322       241         4  107.23       0     47   \n",
       "2           2    38859492057661       390         0  220.11       1     13   \n",
       "3           3  3534093764340240       360         2   45.00       1     26   \n",
       "4           4   375534208663984       297         9   41.96       1     45   \n",
       "\n",
       "     zip      lat      long  ...  merch_lat  merch_long  is_fraud  birth_year  \\\n",
       "0  28654  36.0788  -81.1781  ...  36.011293  -82.048315         0        1988   \n",
       "1  99160  48.8878 -118.2105  ...  49.159047 -118.186462         0        1978   \n",
       "2  83252  42.1808 -112.2620  ...  43.150704 -112.154481         0        1962   \n",
       "3  59632  46.2306 -112.1138  ...  47.034331 -112.561071         0        1967   \n",
       "4  24433  38.4207  -79.4629  ...  38.674999  -78.632459         0        1986   \n",
       "\n",
       "   birth_month  birth_day  transaction_year  transaction_month  \\\n",
       "0            3          9              2019                  1   \n",
       "1            6         21              2019                  1   \n",
       "2            1         19              2019                  1   \n",
       "3            1         12              2019                  1   \n",
       "4            3         28              2019                  1   \n",
       "\n",
       "   transaction_day  transaction_hour  \n",
       "0                1                 0  \n",
       "1                1                 0  \n",
       "2                1                 0  \n",
       "3                1                 0  \n",
       "4                1                 0  \n",
       "\n",
       "[5 rows x 23 columns]"
      ]
     },
     "execution_count": 16,
     "metadata": {},
     "output_type": "execute_result"
    }
   ],
   "source": [
    "df.head()"
   ]
  },
  {
   "cell_type": "code",
   "execution_count": 17,
   "id": "a1a3e8b4",
   "metadata": {},
   "outputs": [
    {
     "data": {
      "text/plain": [
       "(1852394, 23)"
      ]
     },
     "execution_count": 17,
     "metadata": {},
     "output_type": "execute_result"
    }
   ],
   "source": [
    "df.shape"
   ]
  },
  {
   "cell_type": "code",
   "execution_count": 18,
   "id": "620a9f55",
   "metadata": {},
   "outputs": [
    {
     "name": "stdout",
     "output_type": "stream",
     "text": [
      "<class 'pandas.core.frame.DataFrame'>\n",
      "RangeIndex: 1852394 entries, 0 to 1852393\n",
      "Data columns (total 23 columns):\n",
      " #   Column             Dtype  \n",
      "---  ------             -----  \n",
      " 0   Unnamed: 0         int64  \n",
      " 1   cc_num             int64  \n",
      " 2   merchant           int32  \n",
      " 3   category           int32  \n",
      " 4   amt                float64\n",
      " 5   gender             int32  \n",
      " 6   state              int32  \n",
      " 7   zip                int64  \n",
      " 8   lat                float64\n",
      " 9   long               float64\n",
      " 10  city_pop           int64  \n",
      " 11  job                int32  \n",
      " 12  unix_time          int64  \n",
      " 13  merch_lat          float64\n",
      " 14  merch_long         float64\n",
      " 15  is_fraud           int64  \n",
      " 16  birth_year         int64  \n",
      " 17  birth_month        int64  \n",
      " 18  birth_day          int64  \n",
      " 19  transaction_year   int64  \n",
      " 20  transaction_month  int64  \n",
      " 21  transaction_day    int64  \n",
      " 22  transaction_hour   int64  \n",
      "dtypes: float64(5), int32(5), int64(13)\n",
      "memory usage: 289.7 MB\n"
     ]
    }
   ],
   "source": [
    "df.info()"
   ]
  },
  {
   "cell_type": "code",
   "execution_count": 19,
   "id": "27529c7e",
   "metadata": {},
   "outputs": [
    {
     "data": {
      "text/plain": [
       "Unnamed: 0           0\n",
       "cc_num               0\n",
       "merchant             0\n",
       "category             0\n",
       "amt                  0\n",
       "gender               0\n",
       "state                0\n",
       "zip                  0\n",
       "lat                  0\n",
       "long                 0\n",
       "city_pop             0\n",
       "job                  0\n",
       "unix_time            0\n",
       "merch_lat            0\n",
       "merch_long           0\n",
       "is_fraud             0\n",
       "birth_year           0\n",
       "birth_month          0\n",
       "birth_day            0\n",
       "transaction_year     0\n",
       "transaction_month    0\n",
       "transaction_day      0\n",
       "transaction_hour     0\n",
       "dtype: int64"
      ]
     },
     "execution_count": 19,
     "metadata": {},
     "output_type": "execute_result"
    }
   ],
   "source": [
    "df.isnull().sum()"
   ]
  },
  {
   "cell_type": "code",
   "execution_count": 20,
   "id": "b869ef71",
   "metadata": {},
   "outputs": [
    {
     "data": {
      "text/html": [
       "<div>\n",
       "<style scoped>\n",
       "    .dataframe tbody tr th:only-of-type {\n",
       "        vertical-align: middle;\n",
       "    }\n",
       "\n",
       "    .dataframe tbody tr th {\n",
       "        vertical-align: top;\n",
       "    }\n",
       "\n",
       "    .dataframe thead th {\n",
       "        text-align: right;\n",
       "    }\n",
       "</style>\n",
       "<table border=\"1\" class=\"dataframe\">\n",
       "  <thead>\n",
       "    <tr style=\"text-align: right;\">\n",
       "      <th></th>\n",
       "      <th>Unnamed: 0</th>\n",
       "      <th>cc_num</th>\n",
       "      <th>merchant</th>\n",
       "      <th>category</th>\n",
       "      <th>amt</th>\n",
       "      <th>gender</th>\n",
       "      <th>state</th>\n",
       "      <th>zip</th>\n",
       "      <th>lat</th>\n",
       "      <th>long</th>\n",
       "      <th>...</th>\n",
       "      <th>merch_lat</th>\n",
       "      <th>merch_long</th>\n",
       "      <th>is_fraud</th>\n",
       "      <th>birth_year</th>\n",
       "      <th>birth_month</th>\n",
       "      <th>birth_day</th>\n",
       "      <th>transaction_year</th>\n",
       "      <th>transaction_month</th>\n",
       "      <th>transaction_day</th>\n",
       "      <th>transaction_hour</th>\n",
       "    </tr>\n",
       "  </thead>\n",
       "  <tbody>\n",
       "    <tr>\n",
       "      <th>count</th>\n",
       "      <td>1.852394e+06</td>\n",
       "      <td>1.852394e+06</td>\n",
       "      <td>1.852394e+06</td>\n",
       "      <td>1.852394e+06</td>\n",
       "      <td>1.852394e+06</td>\n",
       "      <td>1.852394e+06</td>\n",
       "      <td>1.852394e+06</td>\n",
       "      <td>1.852394e+06</td>\n",
       "      <td>1.852394e+06</td>\n",
       "      <td>1.852394e+06</td>\n",
       "      <td>...</td>\n",
       "      <td>1.852394e+06</td>\n",
       "      <td>1.852394e+06</td>\n",
       "      <td>1.852394e+06</td>\n",
       "      <td>1.852394e+06</td>\n",
       "      <td>1.852394e+06</td>\n",
       "      <td>1.852394e+06</td>\n",
       "      <td>1.852394e+06</td>\n",
       "      <td>1.852394e+06</td>\n",
       "      <td>1.852394e+06</td>\n",
       "      <td>1.852394e+06</td>\n",
       "    </tr>\n",
       "    <tr>\n",
       "      <th>mean</th>\n",
       "      <td>5.371934e+05</td>\n",
       "      <td>4.173860e+17</td>\n",
       "      <td>3.429269e+02</td>\n",
       "      <td>6.230569e+00</td>\n",
       "      <td>7.006357e+01</td>\n",
       "      <td>4.521959e-01</td>\n",
       "      <td>2.666711e+01</td>\n",
       "      <td>4.881326e+04</td>\n",
       "      <td>3.853931e+01</td>\n",
       "      <td>-9.022783e+01</td>\n",
       "      <td>...</td>\n",
       "      <td>3.853898e+01</td>\n",
       "      <td>-9.022794e+01</td>\n",
       "      <td>5.210015e-03</td>\n",
       "      <td>1.973289e+03</td>\n",
       "      <td>6.526735e+00</td>\n",
       "      <td>1.566482e+01</td>\n",
       "      <td>2.019501e+03</td>\n",
       "      <td>7.152067e+00</td>\n",
       "      <td>1.585076e+01</td>\n",
       "      <td>1.280612e+01</td>\n",
       "    </tr>\n",
       "    <tr>\n",
       "      <th>std</th>\n",
       "      <td>3.669110e+05</td>\n",
       "      <td>1.309115e+18</td>\n",
       "      <td>2.010519e+02</td>\n",
       "      <td>3.913273e+00</td>\n",
       "      <td>1.592540e+02</td>\n",
       "      <td>4.977097e-01</td>\n",
       "      <td>1.432946e+01</td>\n",
       "      <td>2.688185e+04</td>\n",
       "      <td>5.071470e+00</td>\n",
       "      <td>1.374789e+01</td>\n",
       "      <td>...</td>\n",
       "      <td>5.105604e+00</td>\n",
       "      <td>1.375969e+01</td>\n",
       "      <td>7.199217e-02</td>\n",
       "      <td>1.739057e+01</td>\n",
       "      <td>3.398164e+00</td>\n",
       "      <td>8.887820e+00</td>\n",
       "      <td>4.999996e-01</td>\n",
       "      <td>3.424954e+00</td>\n",
       "      <td>8.876245e+00</td>\n",
       "      <td>6.815753e+00</td>\n",
       "    </tr>\n",
       "    <tr>\n",
       "      <th>min</th>\n",
       "      <td>0.000000e+00</td>\n",
       "      <td>6.041621e+10</td>\n",
       "      <td>0.000000e+00</td>\n",
       "      <td>0.000000e+00</td>\n",
       "      <td>1.000000e+00</td>\n",
       "      <td>0.000000e+00</td>\n",
       "      <td>0.000000e+00</td>\n",
       "      <td>1.257000e+03</td>\n",
       "      <td>2.002710e+01</td>\n",
       "      <td>-1.656723e+02</td>\n",
       "      <td>...</td>\n",
       "      <td>1.902742e+01</td>\n",
       "      <td>-1.666716e+02</td>\n",
       "      <td>0.000000e+00</td>\n",
       "      <td>1.924000e+03</td>\n",
       "      <td>1.000000e+00</td>\n",
       "      <td>1.000000e+00</td>\n",
       "      <td>2.019000e+03</td>\n",
       "      <td>1.000000e+00</td>\n",
       "      <td>1.000000e+00</td>\n",
       "      <td>0.000000e+00</td>\n",
       "    </tr>\n",
       "    <tr>\n",
       "      <th>25%</th>\n",
       "      <td>2.315490e+05</td>\n",
       "      <td>1.800429e+14</td>\n",
       "      <td>1.660000e+02</td>\n",
       "      <td>3.000000e+00</td>\n",
       "      <td>9.640000e+00</td>\n",
       "      <td>0.000000e+00</td>\n",
       "      <td>1.500000e+01</td>\n",
       "      <td>2.623700e+04</td>\n",
       "      <td>3.466890e+01</td>\n",
       "      <td>-9.679800e+01</td>\n",
       "      <td>...</td>\n",
       "      <td>3.474012e+01</td>\n",
       "      <td>-9.689944e+01</td>\n",
       "      <td>0.000000e+00</td>\n",
       "      <td>1.962000e+03</td>\n",
       "      <td>4.000000e+00</td>\n",
       "      <td>8.000000e+00</td>\n",
       "      <td>2.019000e+03</td>\n",
       "      <td>4.000000e+00</td>\n",
       "      <td>8.000000e+00</td>\n",
       "      <td>7.000000e+00</td>\n",
       "    </tr>\n",
       "    <tr>\n",
       "      <th>50%</th>\n",
       "      <td>4.630980e+05</td>\n",
       "      <td>3.521417e+15</td>\n",
       "      <td>3.460000e+02</td>\n",
       "      <td>6.000000e+00</td>\n",
       "      <td>4.745000e+01</td>\n",
       "      <td>0.000000e+00</td>\n",
       "      <td>2.700000e+01</td>\n",
       "      <td>4.817400e+04</td>\n",
       "      <td>3.935430e+01</td>\n",
       "      <td>-8.747690e+01</td>\n",
       "      <td>...</td>\n",
       "      <td>3.936890e+01</td>\n",
       "      <td>-8.744069e+01</td>\n",
       "      <td>0.000000e+00</td>\n",
       "      <td>1.975000e+03</td>\n",
       "      <td>7.000000e+00</td>\n",
       "      <td>1.500000e+01</td>\n",
       "      <td>2.020000e+03</td>\n",
       "      <td>7.000000e+00</td>\n",
       "      <td>1.600000e+01</td>\n",
       "      <td>1.400000e+01</td>\n",
       "    </tr>\n",
       "    <tr>\n",
       "      <th>75%</th>\n",
       "      <td>8.335758e+05</td>\n",
       "      <td>4.642255e+15</td>\n",
       "      <td>5.140000e+02</td>\n",
       "      <td>1.000000e+01</td>\n",
       "      <td>8.310000e+01</td>\n",
       "      <td>1.000000e+00</td>\n",
       "      <td>3.800000e+01</td>\n",
       "      <td>7.204200e+04</td>\n",
       "      <td>4.194040e+01</td>\n",
       "      <td>-8.015800e+01</td>\n",
       "      <td>...</td>\n",
       "      <td>4.195626e+01</td>\n",
       "      <td>-8.024511e+01</td>\n",
       "      <td>0.000000e+00</td>\n",
       "      <td>1.987000e+03</td>\n",
       "      <td>9.000000e+00</td>\n",
       "      <td>2.300000e+01</td>\n",
       "      <td>2.020000e+03</td>\n",
       "      <td>1.000000e+01</td>\n",
       "      <td>2.400000e+01</td>\n",
       "      <td>1.900000e+01</td>\n",
       "    </tr>\n",
       "    <tr>\n",
       "      <th>max</th>\n",
       "      <td>1.296674e+06</td>\n",
       "      <td>4.992346e+18</td>\n",
       "      <td>6.920000e+02</td>\n",
       "      <td>1.300000e+01</td>\n",
       "      <td>2.894890e+04</td>\n",
       "      <td>1.000000e+00</td>\n",
       "      <td>5.000000e+01</td>\n",
       "      <td>9.992100e+04</td>\n",
       "      <td>6.669330e+01</td>\n",
       "      <td>-6.795030e+01</td>\n",
       "      <td>...</td>\n",
       "      <td>6.751027e+01</td>\n",
       "      <td>-6.695090e+01</td>\n",
       "      <td>1.000000e+00</td>\n",
       "      <td>2.005000e+03</td>\n",
       "      <td>1.200000e+01</td>\n",
       "      <td>3.100000e+01</td>\n",
       "      <td>2.020000e+03</td>\n",
       "      <td>1.200000e+01</td>\n",
       "      <td>3.100000e+01</td>\n",
       "      <td>2.300000e+01</td>\n",
       "    </tr>\n",
       "  </tbody>\n",
       "</table>\n",
       "<p>8 rows × 23 columns</p>\n",
       "</div>"
      ],
      "text/plain": [
       "         Unnamed: 0        cc_num      merchant      category           amt  \\\n",
       "count  1.852394e+06  1.852394e+06  1.852394e+06  1.852394e+06  1.852394e+06   \n",
       "mean   5.371934e+05  4.173860e+17  3.429269e+02  6.230569e+00  7.006357e+01   \n",
       "std    3.669110e+05  1.309115e+18  2.010519e+02  3.913273e+00  1.592540e+02   \n",
       "min    0.000000e+00  6.041621e+10  0.000000e+00  0.000000e+00  1.000000e+00   \n",
       "25%    2.315490e+05  1.800429e+14  1.660000e+02  3.000000e+00  9.640000e+00   \n",
       "50%    4.630980e+05  3.521417e+15  3.460000e+02  6.000000e+00  4.745000e+01   \n",
       "75%    8.335758e+05  4.642255e+15  5.140000e+02  1.000000e+01  8.310000e+01   \n",
       "max    1.296674e+06  4.992346e+18  6.920000e+02  1.300000e+01  2.894890e+04   \n",
       "\n",
       "             gender         state           zip           lat          long  \\\n",
       "count  1.852394e+06  1.852394e+06  1.852394e+06  1.852394e+06  1.852394e+06   \n",
       "mean   4.521959e-01  2.666711e+01  4.881326e+04  3.853931e+01 -9.022783e+01   \n",
       "std    4.977097e-01  1.432946e+01  2.688185e+04  5.071470e+00  1.374789e+01   \n",
       "min    0.000000e+00  0.000000e+00  1.257000e+03  2.002710e+01 -1.656723e+02   \n",
       "25%    0.000000e+00  1.500000e+01  2.623700e+04  3.466890e+01 -9.679800e+01   \n",
       "50%    0.000000e+00  2.700000e+01  4.817400e+04  3.935430e+01 -8.747690e+01   \n",
       "75%    1.000000e+00  3.800000e+01  7.204200e+04  4.194040e+01 -8.015800e+01   \n",
       "max    1.000000e+00  5.000000e+01  9.992100e+04  6.669330e+01 -6.795030e+01   \n",
       "\n",
       "       ...     merch_lat    merch_long      is_fraud    birth_year  \\\n",
       "count  ...  1.852394e+06  1.852394e+06  1.852394e+06  1.852394e+06   \n",
       "mean   ...  3.853898e+01 -9.022794e+01  5.210015e-03  1.973289e+03   \n",
       "std    ...  5.105604e+00  1.375969e+01  7.199217e-02  1.739057e+01   \n",
       "min    ...  1.902742e+01 -1.666716e+02  0.000000e+00  1.924000e+03   \n",
       "25%    ...  3.474012e+01 -9.689944e+01  0.000000e+00  1.962000e+03   \n",
       "50%    ...  3.936890e+01 -8.744069e+01  0.000000e+00  1.975000e+03   \n",
       "75%    ...  4.195626e+01 -8.024511e+01  0.000000e+00  1.987000e+03   \n",
       "max    ...  6.751027e+01 -6.695090e+01  1.000000e+00  2.005000e+03   \n",
       "\n",
       "        birth_month     birth_day  transaction_year  transaction_month  \\\n",
       "count  1.852394e+06  1.852394e+06      1.852394e+06       1.852394e+06   \n",
       "mean   6.526735e+00  1.566482e+01      2.019501e+03       7.152067e+00   \n",
       "std    3.398164e+00  8.887820e+00      4.999996e-01       3.424954e+00   \n",
       "min    1.000000e+00  1.000000e+00      2.019000e+03       1.000000e+00   \n",
       "25%    4.000000e+00  8.000000e+00      2.019000e+03       4.000000e+00   \n",
       "50%    7.000000e+00  1.500000e+01      2.020000e+03       7.000000e+00   \n",
       "75%    9.000000e+00  2.300000e+01      2.020000e+03       1.000000e+01   \n",
       "max    1.200000e+01  3.100000e+01      2.020000e+03       1.200000e+01   \n",
       "\n",
       "       transaction_day  transaction_hour  \n",
       "count     1.852394e+06      1.852394e+06  \n",
       "mean      1.585076e+01      1.280612e+01  \n",
       "std       8.876245e+00      6.815753e+00  \n",
       "min       1.000000e+00      0.000000e+00  \n",
       "25%       8.000000e+00      7.000000e+00  \n",
       "50%       1.600000e+01      1.400000e+01  \n",
       "75%       2.400000e+01      1.900000e+01  \n",
       "max       3.100000e+01      2.300000e+01  \n",
       "\n",
       "[8 rows x 23 columns]"
      ]
     },
     "execution_count": 20,
     "metadata": {},
     "output_type": "execute_result"
    }
   ],
   "source": [
    "df.describe()"
   ]
  },
  {
   "cell_type": "code",
   "execution_count": 21,
   "id": "3485f335",
   "metadata": {},
   "outputs": [
    {
     "data": {
      "text/plain": [
       "False"
      ]
     },
     "execution_count": 21,
     "metadata": {},
     "output_type": "execute_result"
    }
   ],
   "source": [
    "df.duplicated().any()"
   ]
  },
  {
   "cell_type": "code",
   "execution_count": 22,
   "id": "1f046376",
   "metadata": {},
   "outputs": [
    {
     "data": {
      "text/plain": [
       "0    1842743\n",
       "1       9651\n",
       "Name: is_fraud, dtype: int64"
      ]
     },
     "execution_count": 22,
     "metadata": {},
     "output_type": "execute_result"
    }
   ],
   "source": [
    "df['is_fraud'].value_counts()"
   ]
  },
  {
   "cell_type": "code",
   "execution_count": 23,
   "id": "6e7c21cc",
   "metadata": {},
   "outputs": [
    {
     "name": "stderr",
     "output_type": "stream",
     "text": [
      "C:\\Users\\VAISHNAVI LATORE\\anaconda3\\lib\\site-packages\\seaborn\\_decorators.py:36: FutureWarning: Pass the following variable as a keyword arg: x. From version 0.12, the only valid positional argument will be `data`, and passing other arguments without an explicit keyword will result in an error or misinterpretation.\n",
      "  warnings.warn(\n"
     ]
    },
    {
     "data": {
      "text/plain": [
       "<AxesSubplot:xlabel='is_fraud', ylabel='count'>"
      ]
     },
     "execution_count": 23,
     "metadata": {},
     "output_type": "execute_result"
    },
    {
     "data": {
      "image/png": "[encoded data removed]",
      "text/plain": [
       "<Figure size 432x288 with 1 Axes>"
      ]
     },
     "metadata": {
      "needs_background": "light"
     },
     "output_type": "display_data"
    }
   ],
   "source": [
    "sns.countplot(df['is_fraud'])"
   ]
  },
  {
   "cell_type": "code",
   "execution_count": 24,
   "id": "a8d5aa70",
   "metadata": {},
   "outputs": [],
   "source": [
    "X = df.drop('is_fraud' , axis = 1)\n",
    "Y = df['is_fraud']"
   ]
  },
  {
   "cell_type": "code",
   "execution_count": 25,
   "id": "81ea2977",
   "metadata": {},
   "outputs": [],
   "source": [
    "X_test , X_train , Y_test , Y_train = train_test_split(X , Y , test_size = 0.20 , random_state = 42)"
   ]
  },
  {
   "cell_type": "code",
   "execution_count": 26,
   "id": "238fe2a1",
   "metadata": {},
   "outputs": [],
   "source": [
    "#Storing legit transactions into 1 variable and fraud in another"
   ]
  },
  {
   "cell_type": "code",
   "execution_count": 27,
   "id": "9643a687",
   "metadata": {},
   "outputs": [],
   "source": [
    "legit = df[df['is_fraud'] == 0]\n",
    "fraud = df[df['is_fraud'] == 1]"
   ]
  },
  {
   "cell_type": "code",
   "execution_count": 28,
   "id": "54c69484",
   "metadata": {},
   "outputs": [
    {
     "data": {
      "text/plain": [
       "(1842743, 23)"
      ]
     },
     "execution_count": 28,
     "metadata": {},
     "output_type": "execute_result"
    }
   ],
   "source": [
    "legit.shape"
   ]
  },
  {
   "cell_type": "code",
   "execution_count": 29,
   "id": "6ccb033f",
   "metadata": {},
   "outputs": [
    {
     "data": {
      "text/plain": [
       "(9651, 23)"
      ]
     },
     "execution_count": 29,
     "metadata": {},
     "output_type": "execute_result"
    }
   ],
   "source": [
    "fraud.shape"
   ]
  },
  {
   "cell_type": "code",
   "execution_count": 30,
   "id": "811f5aa6",
   "metadata": {},
   "outputs": [],
   "source": [
    "legit_sample = legit.sample(n = 9651)"
   ]
  },
  {
   "cell_type": "code",
   "execution_count": 31,
   "id": "d623207e",
   "metadata": {},
   "outputs": [
    {
     "data": {
      "text/plain": [
       "(9651, 23)"
      ]
     },
     "execution_count": 31,
     "metadata": {},
     "output_type": "execute_result"
    }
   ],
   "source": [
    "legit_sample.shape"
   ]
  },
  {
   "cell_type": "code",
   "execution_count": 32,
   "id": "d3ed2a7c",
   "metadata": {},
   "outputs": [
    {
     "data": {
      "text/plain": [
       "0    9651\n",
       "1    9651\n",
       "Name: is_fraud, dtype: int64"
      ]
     },
     "execution_count": 32,
     "metadata": {},
     "output_type": "execute_result"
    }
   ],
   "source": [
    "data = pd.concat([legit_sample , fraud],ignore_index = 'True')\n",
    "data['is_fraud'].value_counts()"
   ]
  },
  {
   "cell_type": "code",
   "execution_count": 33,
   "id": "0239f756",
   "metadata": {},
   "outputs": [
    {
     "name": "stderr",
     "output_type": "stream",
     "text": [
      "C:\\Users\\VAISHNAVI LATORE\\anaconda3\\lib\\site-packages\\seaborn\\_decorators.py:36: FutureWarning: Pass the following variable as a keyword arg: x. From version 0.12, the only valid positional argument will be `data`, and passing other arguments without an explicit keyword will result in an error or misinterpretation.\n",
      "  warnings.warn(\n"
     ]
    },
    {
     "data": {
      "text/plain": [
       "<AxesSubplot:xlabel='is_fraud', ylabel='count'>"
      ]
     },
     "execution_count": 33,
     "metadata": {},
     "output_type": "execute_result"
    },
    {
     "data": {
      "image/png": "[encoded data removed]",
      "text/plain": [
       "<Figure size 432x288 with 1 Axes>"
      ]
     },
     "metadata": {
      "needs_background": "light"
     },
     "output_type": "display_data"
    }
   ],
   "source": [
    "sns.countplot(data['is_fraud'])"
   ]
  },
  {
   "cell_type": "code",
   "execution_count": 34,
   "id": "6595f7a1",
   "metadata": {},
   "outputs": [
    {
     "data": {
      "text/html": [
       "<div>\n",
       "<style scoped>\n",
       "    .dataframe tbody tr th:only-of-type {\n",
       "        vertical-align: middle;\n",
       "    }\n",
       "\n",
       "    .dataframe tbody tr th {\n",
       "        vertical-align: top;\n",
       "    }\n",
       "\n",
       "    .dataframe thead th {\n",
       "        text-align: right;\n",
       "    }\n",
       "</style>\n",
       "<table border=\"1\" class=\"dataframe\">\n",
       "  <thead>\n",
       "    <tr style=\"text-align: right;\">\n",
       "      <th></th>\n",
       "      <th>Unnamed: 0</th>\n",
       "      <th>cc_num</th>\n",
       "      <th>merchant</th>\n",
       "      <th>category</th>\n",
       "      <th>amt</th>\n",
       "      <th>gender</th>\n",
       "      <th>state</th>\n",
       "      <th>zip</th>\n",
       "      <th>lat</th>\n",
       "      <th>long</th>\n",
       "      <th>...</th>\n",
       "      <th>merch_lat</th>\n",
       "      <th>merch_long</th>\n",
       "      <th>is_fraud</th>\n",
       "      <th>birth_year</th>\n",
       "      <th>birth_month</th>\n",
       "      <th>birth_day</th>\n",
       "      <th>transaction_year</th>\n",
       "      <th>transaction_month</th>\n",
       "      <th>transaction_day</th>\n",
       "      <th>transaction_hour</th>\n",
       "    </tr>\n",
       "  </thead>\n",
       "  <tbody>\n",
       "    <tr>\n",
       "      <th>0</th>\n",
       "      <td>666088</td>\n",
       "      <td>4457732997086323466</td>\n",
       "      <td>543</td>\n",
       "      <td>4</td>\n",
       "      <td>96.18</td>\n",
       "      <td>1</td>\n",
       "      <td>4</td>\n",
       "      <td>95629</td>\n",
       "      <td>38.5234</td>\n",
       "      <td>-120.6763</td>\n",
       "      <td>...</td>\n",
       "      <td>39.353734</td>\n",
       "      <td>-120.083280</td>\n",
       "      <td>0</td>\n",
       "      <td>1987</td>\n",
       "      <td>5</td>\n",
       "      <td>19</td>\n",
       "      <td>2019</td>\n",
       "      <td>10</td>\n",
       "      <td>11</td>\n",
       "      <td>7</td>\n",
       "    </tr>\n",
       "    <tr>\n",
       "      <th>1</th>\n",
       "      <td>855456</td>\n",
       "      <td>6011652924285713</td>\n",
       "      <td>475</td>\n",
       "      <td>8</td>\n",
       "      <td>1.90</td>\n",
       "      <td>0</td>\n",
       "      <td>24</td>\n",
       "      <td>65072</td>\n",
       "      <td>38.2911</td>\n",
       "      <td>-92.7059</td>\n",
       "      <td>...</td>\n",
       "      <td>38.734309</td>\n",
       "      <td>-92.410307</td>\n",
       "      <td>0</td>\n",
       "      <td>1988</td>\n",
       "      <td>10</td>\n",
       "      <td>26</td>\n",
       "      <td>2019</td>\n",
       "      <td>12</td>\n",
       "      <td>16</td>\n",
       "      <td>10</td>\n",
       "    </tr>\n",
       "    <tr>\n",
       "      <th>2</th>\n",
       "      <td>1030418</td>\n",
       "      <td>4610064888664703</td>\n",
       "      <td>383</td>\n",
       "      <td>8</td>\n",
       "      <td>108.70</td>\n",
       "      <td>0</td>\n",
       "      <td>34</td>\n",
       "      <td>13469</td>\n",
       "      <td>43.2229</td>\n",
       "      <td>-75.2899</td>\n",
       "      <td>...</td>\n",
       "      <td>43.301970</td>\n",
       "      <td>-74.999354</td>\n",
       "      <td>0</td>\n",
       "      <td>1996</td>\n",
       "      <td>1</td>\n",
       "      <td>11</td>\n",
       "      <td>2020</td>\n",
       "      <td>3</td>\n",
       "      <td>2</td>\n",
       "      <td>22</td>\n",
       "    </tr>\n",
       "    <tr>\n",
       "      <th>3</th>\n",
       "      <td>740915</td>\n",
       "      <td>4810789809665942990</td>\n",
       "      <td>267</td>\n",
       "      <td>12</td>\n",
       "      <td>2.58</td>\n",
       "      <td>0</td>\n",
       "      <td>35</td>\n",
       "      <td>45307</td>\n",
       "      <td>39.5756</td>\n",
       "      <td>-83.7153</td>\n",
       "      <td>...</td>\n",
       "      <td>39.991585</td>\n",
       "      <td>-83.618526</td>\n",
       "      <td>0</td>\n",
       "      <td>1988</td>\n",
       "      <td>7</td>\n",
       "      <td>28</td>\n",
       "      <td>2019</td>\n",
       "      <td>11</td>\n",
       "      <td>12</td>\n",
       "      <td>16</td>\n",
       "    </tr>\n",
       "    <tr>\n",
       "      <th>4</th>\n",
       "      <td>254586</td>\n",
       "      <td>377234009633447</td>\n",
       "      <td>675</td>\n",
       "      <td>6</td>\n",
       "      <td>65.33</td>\n",
       "      <td>0</td>\n",
       "      <td>49</td>\n",
       "      <td>25442</td>\n",
       "      <td>39.3716</td>\n",
       "      <td>-77.8229</td>\n",
       "      <td>...</td>\n",
       "      <td>38.893721</td>\n",
       "      <td>-77.963805</td>\n",
       "      <td>0</td>\n",
       "      <td>1966</td>\n",
       "      <td>2</td>\n",
       "      <td>14</td>\n",
       "      <td>2019</td>\n",
       "      <td>5</td>\n",
       "      <td>6</td>\n",
       "      <td>17</td>\n",
       "    </tr>\n",
       "  </tbody>\n",
       "</table>\n",
       "<p>5 rows × 23 columns</p>\n",
       "</div>"
      ],
      "text/plain": [
       "   Unnamed: 0               cc_num  merchant  category     amt  gender  state  \\\n",
       "0      666088  4457732997086323466       543         4   96.18       1      4   \n",
       "1      855456     6011652924285713       475         8    1.90       0     24   \n",
       "2     1030418     4610064888664703       383         8  108.70       0     34   \n",
       "3      740915  4810789809665942990       267        12    2.58       0     35   \n",
       "4      254586      377234009633447       675         6   65.33       0     49   \n",
       "\n",
       "     zip      lat      long  ...  merch_lat  merch_long  is_fraud  birth_year  \\\n",
       "0  95629  38.5234 -120.6763  ...  39.353734 -120.083280         0        1987   \n",
       "1  65072  38.2911  -92.7059  ...  38.734309  -92.410307         0        1988   \n",
       "2  13469  43.2229  -75.2899  ...  43.301970  -74.999354         0        1996   \n",
       "3  45307  39.5756  -83.7153  ...  39.991585  -83.618526         0        1988   \n",
       "4  25442  39.3716  -77.8229  ...  38.893721  -77.963805         0        1966   \n",
       "\n",
       "   birth_month  birth_day  transaction_year  transaction_month  \\\n",
       "0            5         19              2019                 10   \n",
       "1           10         26              2019                 12   \n",
       "2            1         11              2020                  3   \n",
       "3            7         28              2019                 11   \n",
       "4            2         14              2019                  5   \n",
       "\n",
       "   transaction_day  transaction_hour  \n",
       "0               11                 7  \n",
       "1               16                10  \n",
       "2                2                22  \n",
       "3               12                16  \n",
       "4                6                17  \n",
       "\n",
       "[5 rows x 23 columns]"
      ]
     },
     "execution_count": 34,
     "metadata": {},
     "output_type": "execute_result"
    }
   ],
   "source": [
    "data.head()"
   ]
  },
  {
   "cell_type": "code",
   "execution_count": 35,
   "id": "45345f05",
   "metadata": {},
   "outputs": [
    {
     "data": {
      "text/html": [
       "<div>\n",
       "<style scoped>\n",
       "    .dataframe tbody tr th:only-of-type {\n",
       "        vertical-align: middle;\n",
       "    }\n",
       "\n",
       "    .dataframe tbody tr th {\n",
       "        vertical-align: top;\n",
       "    }\n",
       "\n",
       "    .dataframe thead th {\n",
       "        text-align: right;\n",
       "    }\n",
       "</style>\n",
       "<table border=\"1\" class=\"dataframe\">\n",
       "  <thead>\n",
       "    <tr style=\"text-align: right;\">\n",
       "      <th></th>\n",
       "      <th>Unnamed: 0</th>\n",
       "      <th>cc_num</th>\n",
       "      <th>merchant</th>\n",
       "      <th>category</th>\n",
       "      <th>amt</th>\n",
       "      <th>gender</th>\n",
       "      <th>state</th>\n",
       "      <th>zip</th>\n",
       "      <th>lat</th>\n",
       "      <th>long</th>\n",
       "      <th>...</th>\n",
       "      <th>unix_time</th>\n",
       "      <th>merch_lat</th>\n",
       "      <th>merch_long</th>\n",
       "      <th>birth_year</th>\n",
       "      <th>birth_month</th>\n",
       "      <th>birth_day</th>\n",
       "      <th>transaction_year</th>\n",
       "      <th>transaction_month</th>\n",
       "      <th>transaction_day</th>\n",
       "      <th>transaction_hour</th>\n",
       "    </tr>\n",
       "    <tr>\n",
       "      <th>is_fraud</th>\n",
       "      <th></th>\n",
       "      <th></th>\n",
       "      <th></th>\n",
       "      <th></th>\n",
       "      <th></th>\n",
       "      <th></th>\n",
       "      <th></th>\n",
       "      <th></th>\n",
       "      <th></th>\n",
       "      <th></th>\n",
       "      <th></th>\n",
       "      <th></th>\n",
       "      <th></th>\n",
       "      <th></th>\n",
       "      <th></th>\n",
       "      <th></th>\n",
       "      <th></th>\n",
       "      <th></th>\n",
       "      <th></th>\n",
       "      <th></th>\n",
       "      <th></th>\n",
       "    </tr>\n",
       "  </thead>\n",
       "  <tbody>\n",
       "    <tr>\n",
       "      <th>0</th>\n",
       "      <td>540888.963734</td>\n",
       "      <td>4.261869e+17</td>\n",
       "      <td>344.013470</td>\n",
       "      <td>6.210341</td>\n",
       "      <td>67.650750</td>\n",
       "      <td>0.451352</td>\n",
       "      <td>26.822298</td>\n",
       "      <td>49111.075433</td>\n",
       "      <td>38.523045</td>\n",
       "      <td>-90.421054</td>\n",
       "      <td>...</td>\n",
       "      <td>1.358785e+09</td>\n",
       "      <td>38.518259</td>\n",
       "      <td>-90.415218</td>\n",
       "      <td>1973.329189</td>\n",
       "      <td>6.488861</td>\n",
       "      <td>15.701896</td>\n",
       "      <td>2019.504404</td>\n",
       "      <td>7.153870</td>\n",
       "      <td>15.736090</td>\n",
       "      <td>12.874210</td>\n",
       "    </tr>\n",
       "    <tr>\n",
       "      <th>1</th>\n",
       "      <td>539849.247228</td>\n",
       "      <td>3.970393e+17</td>\n",
       "      <td>341.748523</td>\n",
       "      <td>7.273029</td>\n",
       "      <td>530.661412</td>\n",
       "      <td>0.492384</td>\n",
       "      <td>26.617138</td>\n",
       "      <td>47999.638379</td>\n",
       "      <td>38.742813</td>\n",
       "      <td>-90.033730</td>\n",
       "      <td>...</td>\n",
       "      <td>1.355323e+09</td>\n",
       "      <td>38.734962</td>\n",
       "      <td>-90.037919</td>\n",
       "      <td>1970.621283</td>\n",
       "      <td>6.421925</td>\n",
       "      <td>15.751010</td>\n",
       "      <td>2019.459123</td>\n",
       "      <td>6.375091</td>\n",
       "      <td>15.834629</td>\n",
       "      <td>14.048907</td>\n",
       "    </tr>\n",
       "  </tbody>\n",
       "</table>\n",
       "<p>2 rows × 22 columns</p>\n",
       "</div>"
      ],
      "text/plain": [
       "             Unnamed: 0        cc_num    merchant  category         amt  \\\n",
       "is_fraud                                                                  \n",
       "0         540888.963734  4.261869e+17  344.013470  6.210341   67.650750   \n",
       "1         539849.247228  3.970393e+17  341.748523  7.273029  530.661412   \n",
       "\n",
       "            gender      state           zip        lat       long  ...  \\\n",
       "is_fraud                                                           ...   \n",
       "0         0.451352  26.822298  49111.075433  38.523045 -90.421054  ...   \n",
       "1         0.492384  26.617138  47999.638379  38.742813 -90.033730  ...   \n",
       "\n",
       "             unix_time  merch_lat  merch_long   birth_year  birth_month  \\\n",
       "is_fraud                                                                  \n",
       "0         1.358785e+09  38.518259  -90.415218  1973.329189     6.488861   \n",
       "1         1.355323e+09  38.734962  -90.037919  1970.621283     6.421925   \n",
       "\n",
       "          birth_day  transaction_year  transaction_month  transaction_day  \\\n",
       "is_fraud                                                                    \n",
       "0         15.701896       2019.504404           7.153870        15.736090   \n",
       "1         15.751010       2019.459123           6.375091        15.834629   \n",
       "\n",
       "          transaction_hour  \n",
       "is_fraud                    \n",
       "0                12.874210  \n",
       "1                14.048907  \n",
       "\n",
       "[2 rows x 22 columns]"
      ]
     },
     "execution_count": 35,
     "metadata": {},
     "output_type": "execute_result"
    }
   ],
   "source": [
    "data.groupby('is_fraud').mean()"
   ]
  },
  {
   "cell_type": "code",
   "execution_count": 36,
   "id": "19824c53",
   "metadata": {},
   "outputs": [],
   "source": [
    "X = data.drop('is_fraud' , axis = 1)\n",
    "Y = data['is_fraud']"
   ]
  },
  {
   "cell_type": "code",
   "execution_count": 37,
   "id": "a9cb1eb8",
   "metadata": {},
   "outputs": [],
   "source": [
    "#Splitting the data"
   ]
  },
  {
   "cell_type": "code",
   "execution_count": 38,
   "id": "defe5aae",
   "metadata": {},
   "outputs": [
    {
     "name": "stdout",
     "output_type": "stream",
     "text": [
      "(19302, 22) (3861, 22) (15441, 22)\n"
     ]
    }
   ],
   "source": [
    "X_test , X_train , Y_test , Y_train = train_test_split(X , Y , test_size = 0.20 , random_state = 42)\n",
    "print(X.shape , X_train.shape , X_test.shape)"
   ]
  },
  {
   "cell_type": "code",
   "execution_count": 39,
   "id": "5ffc339f",
   "metadata": {},
   "outputs": [],
   "source": [
    "#Using Logistic Regression"
   ]
  },
  {
   "cell_type": "code",
   "execution_count": 40,
   "id": "a60d2dad",
   "metadata": {},
   "outputs": [],
   "source": [
    "from sklearn.linear_model import LogisticRegression\n",
    "from sklearn.metrics import accuracy_score,precision_score,recall_score,f1_score"
   ]
  },
  {
   "cell_type": "code",
   "execution_count": 41,
   "id": "5e918f15",
   "metadata": {},
   "outputs": [
    {
     "data": {
      "text/plain": [
       "LogisticRegression()"
      ]
     },
     "execution_count": 41,
     "metadata": {},
     "output_type": "execute_result"
    }
   ],
   "source": [
    "lg = LogisticRegression()\n",
    "lg.fit(X_train , Y_train)"
   ]
  },
  {
   "cell_type": "code",
   "execution_count": 42,
   "id": "a531fbd1",
   "metadata": {},
   "outputs": [],
   "source": [
    "predict1 = lg.predict(X_test)"
   ]
  },
  {
   "cell_type": "code",
   "execution_count": 43,
   "id": "1ea702e3",
   "metadata": {},
   "outputs": [
    {
     "data": {
      "text/plain": [
       "0.5000971439673596"
      ]
     },
     "execution_count": 43,
     "metadata": {},
     "output_type": "execute_result"
    }
   ],
   "source": [
    "accuracy_score(Y_test,predict1)"
   ]
  },
  {
   "cell_type": "code",
   "execution_count": 44,
   "id": "eb0ad2c9",
   "metadata": {},
   "outputs": [],
   "source": [
    "#Using DecisionTreeClassifier"
   ]
  },
  {
   "cell_type": "code",
   "execution_count": 45,
   "id": "3bf712ad",
   "metadata": {},
   "outputs": [],
   "source": [
    "from sklearn.tree import DecisionTreeClassifier"
   ]
  },
  {
   "cell_type": "code",
   "execution_count": 46,
   "id": "f2538405",
   "metadata": {},
   "outputs": [
    {
     "data": {
      "text/plain": [
       "DecisionTreeClassifier()"
      ]
     },
     "execution_count": 46,
     "metadata": {},
     "output_type": "execute_result"
    }
   ],
   "source": [
    "dt = DecisionTreeClassifier()\n",
    "dt.fit(X_train,Y_train)"
   ]
  },
  {
   "cell_type": "code",
   "execution_count": 47,
   "id": "342362b0",
   "metadata": {},
   "outputs": [],
   "source": [
    "predict2 = dt.predict(X_test)"
   ]
  },
  {
   "cell_type": "code",
   "execution_count": 48,
   "id": "6f7b1431",
   "metadata": {},
   "outputs": [
    {
     "data": {
      "text/plain": [
       "0.9438507868661357"
      ]
     },
     "execution_count": 48,
     "metadata": {},
     "output_type": "execute_result"
    }
   ],
   "source": [
    "accuracy_score(Y_test,predict2)"
   ]
  },
  {
   "cell_type": "code",
   "execution_count": 49,
   "id": "187f5076",
   "metadata": {},
   "outputs": [
    {
     "data": {
      "text/plain": [
       "0.9465589155370178"
      ]
     },
     "execution_count": 49,
     "metadata": {},
     "output_type": "execute_result"
    }
   ],
   "source": [
    "precision_score(Y_test,predict2)"
   ]
  },
  {
   "cell_type": "code",
   "execution_count": 50,
   "id": "078af39b",
   "metadata": {},
   "outputs": [
    {
     "data": {
      "text/plain": [
       "0.9407954398238114"
      ]
     },
     "execution_count": 50,
     "metadata": {},
     "output_type": "execute_result"
    }
   ],
   "source": [
    "recall_score(Y_test,predict2)"
   ]
  },
  {
   "cell_type": "code",
   "execution_count": 51,
   "id": "1cc41e68",
   "metadata": {},
   "outputs": [
    {
     "data": {
      "text/plain": [
       "0.9436683776232864"
      ]
     },
     "execution_count": 51,
     "metadata": {},
     "output_type": "execute_result"
    }
   ],
   "source": [
    "f1_score(Y_test,predict2)"
   ]
  },
  {
   "cell_type": "code",
   "execution_count": 52,
   "id": "d45503a6",
   "metadata": {},
   "outputs": [],
   "source": [
    "#Using Random forest Classifier"
   ]
  },
  {
   "cell_type": "code",
   "execution_count": 53,
   "id": "5ce6ccf9",
   "metadata": {},
   "outputs": [],
   "source": [
    "from sklearn.ensemble import RandomForestClassifier"
   ]
  },
  {
   "cell_type": "code",
   "execution_count": 54,
   "id": "dfa00dae",
   "metadata": {},
   "outputs": [
    {
     "data": {
      "text/plain": [
       "RandomForestClassifier()"
      ]
     },
     "execution_count": 54,
     "metadata": {},
     "output_type": "execute_result"
    }
   ],
   "source": [
    "rf = RandomForestClassifier()\n",
    "rf.fit(X_train,Y_train)"
   ]
  },
  {
   "cell_type": "code",
   "execution_count": 55,
   "id": "a52e108f",
   "metadata": {},
   "outputs": [],
   "source": [
    "predict3 = rf.predict(X_test)"
   ]
  },
  {
   "cell_type": "code",
   "execution_count": 56,
   "id": "852f8c6e",
   "metadata": {},
   "outputs": [
    {
     "data": {
      "text/plain": [
       "0.9518813548345314"
      ]
     },
     "execution_count": 56,
     "metadata": {},
     "output_type": "execute_result"
    }
   ],
   "source": [
    "accuracy_score(Y_test,predict3)"
   ]
  },
  {
   "cell_type": "code",
   "execution_count": 57,
   "id": "7c758111",
   "metadata": {},
   "outputs": [
    {
     "data": {
      "text/plain": [
       "0.963336875664187"
      ]
     },
     "execution_count": 57,
     "metadata": {},
     "output_type": "execute_result"
    }
   ],
   "source": [
    "precision_score(Y_test,predict3)"
   ]
  },
  {
   "cell_type": "code",
   "execution_count": 58,
   "id": "ce1ac728",
   "metadata": {},
   "outputs": [
    {
     "data": {
      "text/plain": [
       "0.93949993522477"
      ]
     },
     "execution_count": 58,
     "metadata": {},
     "output_type": "execute_result"
    }
   ],
   "source": [
    "recall_score(Y_test,predict3)"
   ]
  },
  {
   "cell_type": "code",
   "execution_count": 59,
   "id": "3151312e",
   "metadata": {},
   "outputs": [
    {
     "data": {
      "text/plain": [
       "0.9512691021184495"
      ]
     },
     "execution_count": 59,
     "metadata": {},
     "output_type": "execute_result"
    }
   ],
   "source": [
    "f1_score(Y_test,predict3)"
   ]
  },
  {
   "cell_type": "code",
   "execution_count": 60,
   "id": "db4610b5",
   "metadata": {},
   "outputs": [],
   "source": [
    "f_data = pd.DataFrame({'Models':['LR','DT','RF'],\n",
    "                          \"ACC\":[accuracy_score(Y_test,predict1)*100,\n",
    "                                accuracy_score(Y_test,predict2)*100,\n",
    "                                accuracy_score(Y_test,predict3)*100]})"
   ]
  },
  {
   "cell_type": "code",
   "execution_count": 61,
   "id": "88b5dc54",
   "metadata": {},
   "outputs": [
    {
     "data": {
      "text/html": [
       "<div>\n",
       "<style scoped>\n",
       "    .dataframe tbody tr th:only-of-type {\n",
       "        vertical-align: middle;\n",
       "    }\n",
       "\n",
       "    .dataframe tbody tr th {\n",
       "        vertical-align: top;\n",
       "    }\n",
       "\n",
       "    .dataframe thead th {\n",
       "        text-align: right;\n",
       "    }\n",
       "</style>\n",
       "<table border=\"1\" class=\"dataframe\">\n",
       "  <thead>\n",
       "    <tr style=\"text-align: right;\">\n",
       "      <th></th>\n",
       "      <th>Models</th>\n",
       "      <th>ACC</th>\n",
       "    </tr>\n",
       "  </thead>\n",
       "  <tbody>\n",
       "    <tr>\n",
       "      <th>0</th>\n",
       "      <td>LR</td>\n",
       "      <td>50.009714</td>\n",
       "    </tr>\n",
       "    <tr>\n",
       "      <th>1</th>\n",
       "      <td>DT</td>\n",
       "      <td>94.385079</td>\n",
       "    </tr>\n",
       "    <tr>\n",
       "      <th>2</th>\n",
       "      <td>RF</td>\n",
       "      <td>95.188135</td>\n",
       "    </tr>\n",
       "  </tbody>\n",
       "</table>\n",
       "</div>"
      ],
      "text/plain": [
       "  Models        ACC\n",
       "0     LR  50.009714\n",
       "1     DT  94.385079\n",
       "2     RF  95.188135"
      ]
     },
     "execution_count": 61,
     "metadata": {},
     "output_type": "execute_result"
    }
   ],
   "source": [
    "f_data"
   ]
  },
  {
   "cell_type": "code",
   "execution_count": 62,
   "id": "d8b22276",
   "metadata": {},
   "outputs": [],
   "source": [
    "#Saving the model"
   ]
  },
  {
   "cell_type": "code",
   "execution_count": 63,
   "id": "b2b09b3f",
   "metadata": {},
   "outputs": [
    {
     "data": {
      "text/plain": [
       "RandomForestClassifier()"
      ]
     },
     "execution_count": 63,
     "metadata": {},
     "output_type": "execute_result"
    }
   ],
   "source": [
    "rf1 = RandomForestClassifier()\n",
    "rf1.fit(X,Y)"
   ]
  },
  {
   "cell_type": "code",
   "execution_count": 64,
   "id": "4c7edd5b",
   "metadata": {},
   "outputs": [],
   "source": [
    "import joblib"
   ]
  },
  {
   "cell_type": "code",
   "execution_count": 65,
   "id": "c3d5dc4d",
   "metadata": {},
   "outputs": [
    {
     "data": {
      "text/plain": [
       "['credit_card_fraud_detection_model']"
      ]
     },
     "execution_count": 65,
     "metadata": {},
     "output_type": "execute_result"
    }
   ],
   "source": [
    "joblib.dump(rf1 , \"credit_card_fraud_detection_model\")"
   ]
  },
  {
   "cell_type": "code",
   "execution_count": 66,
   "id": "37ffc282",
   "metadata": {},
   "outputs": [],
   "source": [
    "model = joblib.load('credit_card_fraud_detection_model')"
   ]
  },
  {
   "cell_type": "code",
   "execution_count": 67,
   "id": "47847edc",
   "metadata": {},
   "outputs": [
    {
     "data": {
      "text/plain": [
       "(23,)"
      ]
     },
     "execution_count": 67,
     "metadata": {},
     "output_type": "execute_result"
    }
   ],
   "source": [
    "df.columns.shape"
   ]
  },
  {
   "cell_type": "code",
   "execution_count": 68,
   "id": "e88b2176",
   "metadata": {},
   "outputs": [
    {
     "name": "stderr",
     "output_type": "stream",
     "text": [
      "C:\\Users\\VAISHNAVI LATORE\\anaconda3\\lib\\site-packages\\sklearn\\base.py:450: UserWarning: X does not have valid feature names, but RandomForestClassifier was fitted with feature names\n",
      "  warnings.warn(\n"
     ]
    },
    {
     "data": {
      "text/plain": [
       "array([0], dtype=int64)"
      ]
     },
     "execution_count": 68,
     "metadata": {},
     "output_type": "execute_result"
    }
   ],
   "source": [
    "model.predict([[1,1,1,1,1,1,1,1,1,1,1,1,1,1,1,1,1,1,1,1,1,1]])"
   ]
  },
  {
   "cell_type": "code",
   "execution_count": 69,
   "id": "ef432346",
   "metadata": {},
   "outputs": [
    {
     "data": {
      "text/plain": [
       "Index(['Unnamed: 0', 'cc_num', 'merchant', 'category', 'amt', 'gender',\n",
       "       'state', 'zip', 'lat', 'long', 'city_pop', 'job', 'unix_time',\n",
       "       'merch_lat', 'merch_long', 'is_fraud', 'birth_year', 'birth_month',\n",
       "       'birth_day', 'transaction_year', 'transaction_month', 'transaction_day',\n",
       "       'transaction_hour'],\n",
       "      dtype='object')"
      ]
     },
     "execution_count": 69,
     "metadata": {},
     "output_type": "execute_result"
    }
   ],
   "source": [
    "df.columns"
   ]
  },
  {
   "cell_type": "code",
   "execution_count": 70,
   "id": "5fd1bd31",
   "metadata": {},
   "outputs": [
    {
     "data": {
      "text/html": [
       "<div>\n",
       "<style scoped>\n",
       "    .dataframe tbody tr th:only-of-type {\n",
       "        vertical-align: middle;\n",
       "    }\n",
       "\n",
       "    .dataframe tbody tr th {\n",
       "        vertical-align: top;\n",
       "    }\n",
       "\n",
       "    .dataframe thead th {\n",
       "        text-align: right;\n",
       "    }\n",
       "</style>\n",
       "<table border=\"1\" class=\"dataframe\">\n",
       "  <thead>\n",
       "    <tr style=\"text-align: right;\">\n",
       "      <th></th>\n",
       "      <th>Unnamed: 0</th>\n",
       "      <th>cc_num</th>\n",
       "      <th>merchant</th>\n",
       "      <th>category</th>\n",
       "      <th>amt</th>\n",
       "      <th>gender</th>\n",
       "      <th>state</th>\n",
       "      <th>zip</th>\n",
       "      <th>lat</th>\n",
       "      <th>long</th>\n",
       "      <th>...</th>\n",
       "      <th>merch_lat</th>\n",
       "      <th>merch_long</th>\n",
       "      <th>is_fraud</th>\n",
       "      <th>birth_year</th>\n",
       "      <th>birth_month</th>\n",
       "      <th>birth_day</th>\n",
       "      <th>transaction_year</th>\n",
       "      <th>transaction_month</th>\n",
       "      <th>transaction_day</th>\n",
       "      <th>transaction_hour</th>\n",
       "    </tr>\n",
       "  </thead>\n",
       "  <tbody>\n",
       "    <tr>\n",
       "      <th>0</th>\n",
       "      <td>0</td>\n",
       "      <td>2703186189652095</td>\n",
       "      <td>514</td>\n",
       "      <td>8</td>\n",
       "      <td>4.97</td>\n",
       "      <td>0</td>\n",
       "      <td>27</td>\n",
       "      <td>28654</td>\n",
       "      <td>36.0788</td>\n",
       "      <td>-81.1781</td>\n",
       "      <td>...</td>\n",
       "      <td>36.011293</td>\n",
       "      <td>-82.048315</td>\n",
       "      <td>0</td>\n",
       "      <td>1988</td>\n",
       "      <td>3</td>\n",
       "      <td>9</td>\n",
       "      <td>2019</td>\n",
       "      <td>1</td>\n",
       "      <td>1</td>\n",
       "      <td>0</td>\n",
       "    </tr>\n",
       "    <tr>\n",
       "      <th>1</th>\n",
       "      <td>1</td>\n",
       "      <td>630423337322</td>\n",
       "      <td>241</td>\n",
       "      <td>4</td>\n",
       "      <td>107.23</td>\n",
       "      <td>0</td>\n",
       "      <td>47</td>\n",
       "      <td>99160</td>\n",
       "      <td>48.8878</td>\n",
       "      <td>-118.2105</td>\n",
       "      <td>...</td>\n",
       "      <td>49.159047</td>\n",
       "      <td>-118.186462</td>\n",
       "      <td>0</td>\n",
       "      <td>1978</td>\n",
       "      <td>6</td>\n",
       "      <td>21</td>\n",
       "      <td>2019</td>\n",
       "      <td>1</td>\n",
       "      <td>1</td>\n",
       "      <td>0</td>\n",
       "    </tr>\n",
       "    <tr>\n",
       "      <th>2</th>\n",
       "      <td>2</td>\n",
       "      <td>38859492057661</td>\n",
       "      <td>390</td>\n",
       "      <td>0</td>\n",
       "      <td>220.11</td>\n",
       "      <td>1</td>\n",
       "      <td>13</td>\n",
       "      <td>83252</td>\n",
       "      <td>42.1808</td>\n",
       "      <td>-112.2620</td>\n",
       "      <td>...</td>\n",
       "      <td>43.150704</td>\n",
       "      <td>-112.154481</td>\n",
       "      <td>0</td>\n",
       "      <td>1962</td>\n",
       "      <td>1</td>\n",
       "      <td>19</td>\n",
       "      <td>2019</td>\n",
       "      <td>1</td>\n",
       "      <td>1</td>\n",
       "      <td>0</td>\n",
       "    </tr>\n",
       "    <tr>\n",
       "      <th>3</th>\n",
       "      <td>3</td>\n",
       "      <td>3534093764340240</td>\n",
       "      <td>360</td>\n",
       "      <td>2</td>\n",
       "      <td>45.00</td>\n",
       "      <td>1</td>\n",
       "      <td>26</td>\n",
       "      <td>59632</td>\n",
       "      <td>46.2306</td>\n",
       "      <td>-112.1138</td>\n",
       "      <td>...</td>\n",
       "      <td>47.034331</td>\n",
       "      <td>-112.561071</td>\n",
       "      <td>0</td>\n",
       "      <td>1967</td>\n",
       "      <td>1</td>\n",
       "      <td>12</td>\n",
       "      <td>2019</td>\n",
       "      <td>1</td>\n",
       "      <td>1</td>\n",
       "      <td>0</td>\n",
       "    </tr>\n",
       "    <tr>\n",
       "      <th>4</th>\n",
       "      <td>4</td>\n",
       "      <td>375534208663984</td>\n",
       "      <td>297</td>\n",
       "      <td>9</td>\n",
       "      <td>41.96</td>\n",
       "      <td>1</td>\n",
       "      <td>45</td>\n",
       "      <td>24433</td>\n",
       "      <td>38.4207</td>\n",
       "      <td>-79.4629</td>\n",
       "      <td>...</td>\n",
       "      <td>38.674999</td>\n",
       "      <td>-78.632459</td>\n",
       "      <td>0</td>\n",
       "      <td>1986</td>\n",
       "      <td>3</td>\n",
       "      <td>28</td>\n",
       "      <td>2019</td>\n",
       "      <td>1</td>\n",
       "      <td>1</td>\n",
       "      <td>0</td>\n",
       "    </tr>\n",
       "    <tr>\n",
       "      <th>...</th>\n",
       "      <td>...</td>\n",
       "      <td>...</td>\n",
       "      <td>...</td>\n",
       "      <td>...</td>\n",
       "      <td>...</td>\n",
       "      <td>...</td>\n",
       "      <td>...</td>\n",
       "      <td>...</td>\n",
       "      <td>...</td>\n",
       "      <td>...</td>\n",
       "      <td>...</td>\n",
       "      <td>...</td>\n",
       "      <td>...</td>\n",
       "      <td>...</td>\n",
       "      <td>...</td>\n",
       "      <td>...</td>\n",
       "      <td>...</td>\n",
       "      <td>...</td>\n",
       "      <td>...</td>\n",
       "      <td>...</td>\n",
       "      <td>...</td>\n",
       "    </tr>\n",
       "    <tr>\n",
       "      <th>1852389</th>\n",
       "      <td>555714</td>\n",
       "      <td>30560609640617</td>\n",
       "      <td>507</td>\n",
       "      <td>5</td>\n",
       "      <td>43.77</td>\n",
       "      <td>1</td>\n",
       "      <td>24</td>\n",
       "      <td>63453</td>\n",
       "      <td>40.4931</td>\n",
       "      <td>-91.8912</td>\n",
       "      <td>...</td>\n",
       "      <td>39.946837</td>\n",
       "      <td>-91.333331</td>\n",
       "      <td>0</td>\n",
       "      <td>1966</td>\n",
       "      <td>2</td>\n",
       "      <td>13</td>\n",
       "      <td>2020</td>\n",
       "      <td>12</td>\n",
       "      <td>31</td>\n",
       "      <td>23</td>\n",
       "    </tr>\n",
       "    <tr>\n",
       "      <th>1852390</th>\n",
       "      <td>555715</td>\n",
       "      <td>3556613125071656</td>\n",
       "      <td>264</td>\n",
       "      <td>7</td>\n",
       "      <td>111.84</td>\n",
       "      <td>1</td>\n",
       "      <td>43</td>\n",
       "      <td>77566</td>\n",
       "      <td>29.0393</td>\n",
       "      <td>-95.4401</td>\n",
       "      <td>...</td>\n",
       "      <td>29.661049</td>\n",
       "      <td>-96.186633</td>\n",
       "      <td>0</td>\n",
       "      <td>1999</td>\n",
       "      <td>12</td>\n",
       "      <td>27</td>\n",
       "      <td>2020</td>\n",
       "      <td>12</td>\n",
       "      <td>31</td>\n",
       "      <td>23</td>\n",
       "    </tr>\n",
       "    <tr>\n",
       "      <th>1852391</th>\n",
       "      <td>555716</td>\n",
       "      <td>6011724471098086</td>\n",
       "      <td>496</td>\n",
       "      <td>7</td>\n",
       "      <td>86.88</td>\n",
       "      <td>0</td>\n",
       "      <td>47</td>\n",
       "      <td>99323</td>\n",
       "      <td>46.1966</td>\n",
       "      <td>-118.9017</td>\n",
       "      <td>...</td>\n",
       "      <td>46.658340</td>\n",
       "      <td>-119.715054</td>\n",
       "      <td>0</td>\n",
       "      <td>1981</td>\n",
       "      <td>11</td>\n",
       "      <td>29</td>\n",
       "      <td>2020</td>\n",
       "      <td>12</td>\n",
       "      <td>31</td>\n",
       "      <td>23</td>\n",
       "    </tr>\n",
       "    <tr>\n",
       "      <th>1852392</th>\n",
       "      <td>555717</td>\n",
       "      <td>4079773899158</td>\n",
       "      <td>75</td>\n",
       "      <td>13</td>\n",
       "      <td>7.99</td>\n",
       "      <td>1</td>\n",
       "      <td>13</td>\n",
       "      <td>83643</td>\n",
       "      <td>44.6255</td>\n",
       "      <td>-116.4493</td>\n",
       "      <td>...</td>\n",
       "      <td>44.470525</td>\n",
       "      <td>-117.080888</td>\n",
       "      <td>0</td>\n",
       "      <td>1965</td>\n",
       "      <td>12</td>\n",
       "      <td>15</td>\n",
       "      <td>2020</td>\n",
       "      <td>12</td>\n",
       "      <td>31</td>\n",
       "      <td>23</td>\n",
       "    </tr>\n",
       "    <tr>\n",
       "      <th>1852393</th>\n",
       "      <td>555718</td>\n",
       "      <td>4170689372027579</td>\n",
       "      <td>125</td>\n",
       "      <td>0</td>\n",
       "      <td>38.13</td>\n",
       "      <td>1</td>\n",
       "      <td>36</td>\n",
       "      <td>73034</td>\n",
       "      <td>35.6665</td>\n",
       "      <td>-97.4798</td>\n",
       "      <td>...</td>\n",
       "      <td>36.210097</td>\n",
       "      <td>-97.036372</td>\n",
       "      <td>0</td>\n",
       "      <td>1993</td>\n",
       "      <td>5</td>\n",
       "      <td>10</td>\n",
       "      <td>2020</td>\n",
       "      <td>12</td>\n",
       "      <td>31</td>\n",
       "      <td>23</td>\n",
       "    </tr>\n",
       "  </tbody>\n",
       "</table>\n",
       "<p>1852394 rows × 23 columns</p>\n",
       "</div>"
      ],
      "text/plain": [
       "         Unnamed: 0            cc_num  merchant  category     amt  gender  \\\n",
       "0                 0  2703186189652095       514         8    4.97       0   \n",
       "1                 1      630423337322       241         4  107.23       0   \n",
       "2                 2    38859492057661       390         0  220.11       1   \n",
       "3                 3  3534093764340240       360         2   45.00       1   \n",
       "4                 4   375534208663984       297         9   41.96       1   \n",
       "...             ...               ...       ...       ...     ...     ...   \n",
       "1852389      555714    30560609640617       507         5   43.77       1   \n",
       "1852390      555715  3556613125071656       264         7  111.84       1   \n",
       "1852391      555716  6011724471098086       496         7   86.88       0   \n",
       "1852392      555717     4079773899158        75        13    7.99       1   \n",
       "1852393      555718  4170689372027579       125         0   38.13       1   \n",
       "\n",
       "         state    zip      lat      long  ...  merch_lat  merch_long  \\\n",
       "0           27  28654  36.0788  -81.1781  ...  36.011293  -82.048315   \n",
       "1           47  99160  48.8878 -118.2105  ...  49.159047 -118.186462   \n",
       "2           13  83252  42.1808 -112.2620  ...  43.150704 -112.154481   \n",
       "3           26  59632  46.2306 -112.1138  ...  47.034331 -112.561071   \n",
       "4           45  24433  38.4207  -79.4629  ...  38.674999  -78.632459   \n",
       "...        ...    ...      ...       ...  ...        ...         ...   \n",
       "1852389     24  63453  40.4931  -91.8912  ...  39.946837  -91.333331   \n",
       "1852390     43  77566  29.0393  -95.4401  ...  29.661049  -96.186633   \n",
       "1852391     47  99323  46.1966 -118.9017  ...  46.658340 -119.715054   \n",
       "1852392     13  83643  44.6255 -116.4493  ...  44.470525 -117.080888   \n",
       "1852393     36  73034  35.6665  -97.4798  ...  36.210097  -97.036372   \n",
       "\n",
       "         is_fraud  birth_year  birth_month  birth_day  transaction_year  \\\n",
       "0               0        1988            3          9              2019   \n",
       "1               0        1978            6         21              2019   \n",
       "2               0        1962            1         19              2019   \n",
       "3               0        1967            1         12              2019   \n",
       "4               0        1986            3         28              2019   \n",
       "...           ...         ...          ...        ...               ...   \n",
       "1852389         0        1966            2         13              2020   \n",
       "1852390         0        1999           12         27              2020   \n",
       "1852391         0        1981           11         29              2020   \n",
       "1852392         0        1965           12         15              2020   \n",
       "1852393         0        1993            5         10              2020   \n",
       "\n",
       "         transaction_month  transaction_day  transaction_hour  \n",
       "0                        1                1                 0  \n",
       "1                        1                1                 0  \n",
       "2                        1                1                 0  \n",
       "3                        1                1                 0  \n",
       "4                        1                1                 0  \n",
       "...                    ...              ...               ...  \n",
       "1852389                 12               31                23  \n",
       "1852390                 12               31                23  \n",
       "1852391                 12               31                23  \n",
       "1852392                 12               31                23  \n",
       "1852393                 12               31                23  \n",
       "\n",
       "[1852394 rows x 23 columns]"
      ]
     },
     "execution_count": 70,
     "metadata": {},
     "output_type": "execute_result"
    }
   ],
   "source": [
    "df"
   ]
  },
  {
   "cell_type": "code",
   "execution_count": 72,
   "id": "98943208",
   "metadata": {},
   "outputs": [
    {
     "name": "stdout",
     "output_type": "stream",
     "text": [
      "normal transaction\n"
     ]
    },
    {
     "name": "stderr",
     "output_type": "stream",
     "text": [
      "C:\\Users\\VAISHNAVI LATORE\\anaconda3\\lib\\site-packages\\sklearn\\base.py:450: UserWarning: X does not have valid feature names, but RandomForestClassifier was fitted with feature names\n",
      "  warnings.warn(\n"
     ]
    }
   ],
   "source": [
    "pred = model.predict([[1,630423337322,241,4,107.23,0,47,99160,48.8878,-118.2105,1,1,1,49.159047,-118.186462,1978,6,21,2019,1,1,0]])\n",
    "if pred == 0:\n",
    "    print(\"normal transaction\")\n",
    "else:\n",
    "    print(\"Fradulent Transaction\")"
   ]
  },
  {
   "cell_type": "code",
   "execution_count": null,
   "id": "27931649",
   "metadata": {},
   "outputs": [],
   "source": []
  },
  {
   "cell_type": "code",
   "execution_count": null,
   "id": "c03148ea",
   "metadata": {},
   "outputs": [],
   "source": []
  }
 ],
 "metadata": {
  "kernelspec": {
   "display_name": "Python 3 (ipykernel)",
   "language": "python",
   "name": "python3"
  },
  "language_info": {
   "codemirror_mode": {
    "name": "ipython",
    "version": 3
   },
   "file_extension": ".py",
   "mimetype": "text/x-python",
   "name": "python",
   "nbconvert_exporter": "python",
   "pygments_lexer": "ipython3",
   "version": "3.9.12"
  }
 },
 "nbformat": 4,
 "nbformat_minor": 5
}
