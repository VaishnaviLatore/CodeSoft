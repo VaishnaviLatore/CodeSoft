{
 "cells": [
  {
   "cell_type": "code",
   "execution_count": 1,
   "id": "497ee649",
   "metadata": {},
   "outputs": [],
   "source": [
    "import numpy as np"
   ]
  },
  {
   "cell_type": "code",
   "execution_count": 2,
   "id": "63b1193f",
   "metadata": {},
   "outputs": [],
   "source": [
    "import pandas as pd\n",
    "import tkinter as tk\n",
    "from sklearn.model_selection import train_test_split\n",
    "from sklearn.feature_extraction.text import TfidfVectorizer\n",
    "from sklearn.linear_model import LogisticRegression\n",
    "from sklearn.metrics import accuracy_score"
   ]
  },
  {
   "cell_type": "code",
   "execution_count": 3,
   "id": "2e3a8d3a",
   "metadata": {},
   "outputs": [
    {
     "data": {
      "text/plain": [
       "'1.4.2'"
      ]
     },
     "execution_count": 3,
     "metadata": {},
     "output_type": "execute_result"
    }
   ],
   "source": [
    "pd.__version__"
   ]
  },
  {
   "cell_type": "code",
   "execution_count": 4,
   "id": "368c4b03",
   "metadata": {},
   "outputs": [],
   "source": [
    "#READING THE DATASET"
   ]
  },
  {
   "cell_type": "code",
   "execution_count": 5,
   "id": "06115614",
   "metadata": {},
   "outputs": [],
   "source": [
    "df = pd.read_csv('spam.csv',encoding='ISO-8859-1')"
   ]
  },
  {
   "cell_type": "code",
   "execution_count": 6,
   "id": "7bf0de63",
   "metadata": {},
   "outputs": [
    {
     "name": "stdout",
     "output_type": "stream",
     "text": [
      "        v1                                                 v2 Unnamed: 2  \\\n",
      "0      ham  Go until jurong point, crazy.. Available only ...        NaN   \n",
      "1      ham                      Ok lar... Joking wif u oni...        NaN   \n",
      "2     spam  Free entry in 2 a wkly comp to win FA Cup fina...        NaN   \n",
      "3      ham  U dun say so early hor... U c already then say...        NaN   \n",
      "4      ham  Nah I don't think he goes to usf, he lives aro...        NaN   \n",
      "...    ...                                                ...        ...   \n",
      "5567  spam  This is the 2nd time we have tried 2 contact u...        NaN   \n",
      "5568   ham              Will Ì_ b going to esplanade fr home?        NaN   \n",
      "5569   ham  Pity, * was in mood for that. So...any other s...        NaN   \n",
      "5570   ham  The guy did some bitching but I acted like i'd...        NaN   \n",
      "5571   ham                         Rofl. Its true to its name        NaN   \n",
      "\n",
      "     Unnamed: 3 Unnamed: 4  \n",
      "0           NaN        NaN  \n",
      "1           NaN        NaN  \n",
      "2           NaN        NaN  \n",
      "3           NaN        NaN  \n",
      "4           NaN        NaN  \n",
      "...         ...        ...  \n",
      "5567        NaN        NaN  \n",
      "5568        NaN        NaN  \n",
      "5569        NaN        NaN  \n",
      "5570        NaN        NaN  \n",
      "5571        NaN        NaN  \n",
      "\n",
      "[5572 rows x 5 columns]\n"
     ]
    }
   ],
   "source": [
    "print(df)"
   ]
  },
  {
   "cell_type": "code",
   "execution_count": 7,
   "id": "f088152a",
   "metadata": {},
   "outputs": [],
   "source": [
    "data = df.where((pd.notnull(df)))"
   ]
  },
  {
   "cell_type": "code",
   "execution_count": 8,
   "id": "fb4f9208",
   "metadata": {},
   "outputs": [
    {
     "data": {
      "text/html": [
       "<div>\n",
       "<style scoped>\n",
       "    .dataframe tbody tr th:only-of-type {\n",
       "        vertical-align: middle;\n",
       "    }\n",
       "\n",
       "    .dataframe tbody tr th {\n",
       "        vertical-align: top;\n",
       "    }\n",
       "\n",
       "    .dataframe thead th {\n",
       "        text-align: right;\n",
       "    }\n",
       "</style>\n",
       "<table border=\"1\" class=\"dataframe\">\n",
       "  <thead>\n",
       "    <tr style=\"text-align: right;\">\n",
       "      <th></th>\n",
       "      <th>v1</th>\n",
       "      <th>v2</th>\n",
       "      <th>Unnamed: 2</th>\n",
       "      <th>Unnamed: 3</th>\n",
       "      <th>Unnamed: 4</th>\n",
       "    </tr>\n",
       "  </thead>\n",
       "  <tbody>\n",
       "    <tr>\n",
       "      <th>0</th>\n",
       "      <td>ham</td>\n",
       "      <td>Go until jurong point, crazy.. Available only ...</td>\n",
       "      <td>NaN</td>\n",
       "      <td>NaN</td>\n",
       "      <td>NaN</td>\n",
       "    </tr>\n",
       "    <tr>\n",
       "      <th>1</th>\n",
       "      <td>ham</td>\n",
       "      <td>Ok lar... Joking wif u oni...</td>\n",
       "      <td>NaN</td>\n",
       "      <td>NaN</td>\n",
       "      <td>NaN</td>\n",
       "    </tr>\n",
       "    <tr>\n",
       "      <th>2</th>\n",
       "      <td>spam</td>\n",
       "      <td>Free entry in 2 a wkly comp to win FA Cup fina...</td>\n",
       "      <td>NaN</td>\n",
       "      <td>NaN</td>\n",
       "      <td>NaN</td>\n",
       "    </tr>\n",
       "    <tr>\n",
       "      <th>3</th>\n",
       "      <td>ham</td>\n",
       "      <td>U dun say so early hor... U c already then say...</td>\n",
       "      <td>NaN</td>\n",
       "      <td>NaN</td>\n",
       "      <td>NaN</td>\n",
       "    </tr>\n",
       "    <tr>\n",
       "      <th>4</th>\n",
       "      <td>ham</td>\n",
       "      <td>Nah I don't think he goes to usf, he lives aro...</td>\n",
       "      <td>NaN</td>\n",
       "      <td>NaN</td>\n",
       "      <td>NaN</td>\n",
       "    </tr>\n",
       "  </tbody>\n",
       "</table>\n",
       "</div>"
      ],
      "text/plain": [
       "     v1                                                 v2 Unnamed: 2  \\\n",
       "0   ham  Go until jurong point, crazy.. Available only ...        NaN   \n",
       "1   ham                      Ok lar... Joking wif u oni...        NaN   \n",
       "2  spam  Free entry in 2 a wkly comp to win FA Cup fina...        NaN   \n",
       "3   ham  U dun say so early hor... U c already then say...        NaN   \n",
       "4   ham  Nah I don't think he goes to usf, he lives aro...        NaN   \n",
       "\n",
       "  Unnamed: 3 Unnamed: 4  \n",
       "0        NaN        NaN  \n",
       "1        NaN        NaN  \n",
       "2        NaN        NaN  \n",
       "3        NaN        NaN  \n",
       "4        NaN        NaN  "
      ]
     },
     "execution_count": 8,
     "metadata": {},
     "output_type": "execute_result"
    }
   ],
   "source": [
    "data.head()"
   ]
  },
  {
   "cell_type": "code",
   "execution_count": 9,
   "id": "8514587a",
   "metadata": {},
   "outputs": [
    {
     "data": {
      "text/html": [
       "<div>\n",
       "<style scoped>\n",
       "    .dataframe tbody tr th:only-of-type {\n",
       "        vertical-align: middle;\n",
       "    }\n",
       "\n",
       "    .dataframe tbody tr th {\n",
       "        vertical-align: top;\n",
       "    }\n",
       "\n",
       "    .dataframe thead th {\n",
       "        text-align: right;\n",
       "    }\n",
       "</style>\n",
       "<table border=\"1\" class=\"dataframe\">\n",
       "  <thead>\n",
       "    <tr style=\"text-align: right;\">\n",
       "      <th></th>\n",
       "      <th>v1</th>\n",
       "      <th>v2</th>\n",
       "    </tr>\n",
       "  </thead>\n",
       "  <tbody>\n",
       "    <tr>\n",
       "      <th>0</th>\n",
       "      <td>ham</td>\n",
       "      <td>Go until jurong point, crazy.. Available only ...</td>\n",
       "    </tr>\n",
       "    <tr>\n",
       "      <th>1</th>\n",
       "      <td>ham</td>\n",
       "      <td>Ok lar... Joking wif u oni...</td>\n",
       "    </tr>\n",
       "    <tr>\n",
       "      <th>2</th>\n",
       "      <td>spam</td>\n",
       "      <td>Free entry in 2 a wkly comp to win FA Cup fina...</td>\n",
       "    </tr>\n",
       "    <tr>\n",
       "      <th>3</th>\n",
       "      <td>ham</td>\n",
       "      <td>U dun say so early hor... U c already then say...</td>\n",
       "    </tr>\n",
       "    <tr>\n",
       "      <th>4</th>\n",
       "      <td>ham</td>\n",
       "      <td>Nah I don't think he goes to usf, he lives aro...</td>\n",
       "    </tr>\n",
       "  </tbody>\n",
       "</table>\n",
       "</div>"
      ],
      "text/plain": [
       "     v1                                                 v2\n",
       "0   ham  Go until jurong point, crazy.. Available only ...\n",
       "1   ham                      Ok lar... Joking wif u oni...\n",
       "2  spam  Free entry in 2 a wkly comp to win FA Cup fina...\n",
       "3   ham  U dun say so early hor... U c already then say...\n",
       "4   ham  Nah I don't think he goes to usf, he lives aro..."
      ]
     },
     "execution_count": 9,
     "metadata": {},
     "output_type": "execute_result"
    }
   ],
   "source": [
    "data = data.drop(columns=data.columns[2:5])\n",
    "data.head()"
   ]
  },
  {
   "cell_type": "code",
   "execution_count": 10,
   "id": "be6dfdf6",
   "metadata": {},
   "outputs": [],
   "source": [
    "data['v1'] = data['v1'].map({'ham': 1, 'spam': 0})"
   ]
  },
  {
   "cell_type": "code",
   "execution_count": 11,
   "id": "c825e951",
   "metadata": {},
   "outputs": [],
   "source": [
    "X = data['v2']\n",
    "Y = data['v1']"
   ]
  },
  {
   "cell_type": "code",
   "execution_count": 12,
   "id": "d2127662",
   "metadata": {},
   "outputs": [
    {
     "name": "stdout",
     "output_type": "stream",
     "text": [
      "0       Go until jurong point, crazy.. Available only ...\n",
      "1                           Ok lar... Joking wif u oni...\n",
      "2       Free entry in 2 a wkly comp to win FA Cup fina...\n",
      "3       U dun say so early hor... U c already then say...\n",
      "4       Nah I don't think he goes to usf, he lives aro...\n",
      "                              ...                        \n",
      "5567    This is the 2nd time we have tried 2 contact u...\n",
      "5568                Will Ì_ b going to esplanade fr home?\n",
      "5569    Pity, * was in mood for that. So...any other s...\n",
      "5570    The guy did some bitching but I acted like i'd...\n",
      "5571                           Rofl. Its true to its name\n",
      "Name: v2, Length: 5572, dtype: object\n"
     ]
    }
   ],
   "source": [
    "print(X)"
   ]
  },
  {
   "cell_type": "code",
   "execution_count": 13,
   "id": "9600c3de",
   "metadata": {},
   "outputs": [
    {
     "name": "stdout",
     "output_type": "stream",
     "text": [
      "0       1\n",
      "1       1\n",
      "2       0\n",
      "3       1\n",
      "4       1\n",
      "       ..\n",
      "5567    0\n",
      "5568    1\n",
      "5569    1\n",
      "5570    1\n",
      "5571    1\n",
      "Name: v1, Length: 5572, dtype: int64\n"
     ]
    }
   ],
   "source": [
    "print(Y)"
   ]
  },
  {
   "cell_type": "code",
   "execution_count": 14,
   "id": "807bcc94",
   "metadata": {},
   "outputs": [],
   "source": [
    "# Splitting data into training and testing sets"
   ]
  },
  {
   "cell_type": "code",
   "execution_count": 15,
   "id": "ed949fb0",
   "metadata": {},
   "outputs": [],
   "source": [
    "X_train,X_test,Y_train,Y_test = train_test_split(X , Y , train_size = 0.2 , random_state = 3)"
   ]
  },
  {
   "cell_type": "code",
   "execution_count": 16,
   "id": "cad4b130",
   "metadata": {},
   "outputs": [
    {
     "name": "stdout",
     "output_type": "stream",
     "text": [
      "(5572,)\n"
     ]
    }
   ],
   "source": [
    "print(X.shape)"
   ]
  },
  {
   "cell_type": "code",
   "execution_count": 17,
   "id": "aacc424c",
   "metadata": {},
   "outputs": [
    {
     "name": "stdout",
     "output_type": "stream",
     "text": [
      "(1114,)\n"
     ]
    }
   ],
   "source": [
    "print(X_train.shape)"
   ]
  },
  {
   "cell_type": "code",
   "execution_count": 18,
   "id": "78a470b3",
   "metadata": {},
   "outputs": [
    {
     "name": "stdout",
     "output_type": "stream",
     "text": [
      "(4458,)\n"
     ]
    }
   ],
   "source": [
    "print(X_test.shape)"
   ]
  },
  {
   "cell_type": "markdown",
   "id": "f62e904c",
   "metadata": {},
   "source": [
    "USING LOGISTIC REGRESSION"
   ]
  },
  {
   "cell_type": "code",
   "execution_count": 19,
   "id": "46b1dd43",
   "metadata": {},
   "outputs": [],
   "source": [
    "# Feature extraction using TF-IDF vectorizer"
   ]
  },
  {
   "cell_type": "code",
   "execution_count": 20,
   "id": "2e71eefd",
   "metadata": {},
   "outputs": [],
   "source": [
    "feature_extraction = TfidfVectorizer(min_df = 1 , stop_words = 'english' , lowercase = 'True')"
   ]
  },
  {
   "cell_type": "code",
   "execution_count": 21,
   "id": "b2febe38",
   "metadata": {},
   "outputs": [],
   "source": [
    "X_train_features = feature_extraction.fit_transform(X_train)\n",
    "X_test_features = feature_extraction.transform(X_test)"
   ]
  },
  {
   "cell_type": "code",
   "execution_count": 22,
   "id": "0656ee33",
   "metadata": {},
   "outputs": [
    {
     "name": "stdout",
     "output_type": "stream",
     "text": [
      "(1114, 3265)\n"
     ]
    }
   ],
   "source": [
    "print(X_train_features.shape)"
   ]
  },
  {
   "cell_type": "code",
   "execution_count": 23,
   "id": "adc92cc9",
   "metadata": {},
   "outputs": [
    {
     "name": "stdout",
     "output_type": "stream",
     "text": [
      "(4458, 3265)\n"
     ]
    }
   ],
   "source": [
    "print(X_test_features.shape)"
   ]
  },
  {
   "cell_type": "code",
   "execution_count": 24,
   "id": "8223406b",
   "metadata": {},
   "outputs": [
    {
     "name": "stdout",
     "output_type": "stream",
     "text": [
      "  (0, 933)\t0.38169343003798417\n",
      "  (0, 2140)\t0.3068986851823308\n",
      "  (0, 2095)\t0.46046052956669653\n",
      "  (0, 529)\t0.46046052956669653\n",
      "  (0, 464)\t0.41687910647850807\n",
      "  (0, 2575)\t0.4028490219712474\n",
      "  (1, 1708)\t0.23659816720475793\n",
      "  (1, 1901)\t0.2553279714810523\n",
      "  (1, 778)\t0.241919438558794\n",
      "  (1, 3105)\t0.19119132397661817\n",
      "  (1, 1687)\t0.20428232263172857\n",
      "  (1, 280)\t0.29184246839191025\n",
      "  (1, 2977)\t0.29184246839191025\n",
      "  (1, 2632)\t0.29184246839191025\n",
      "  (1, 1779)\t0.27568454610539556\n",
      "  (1, 1390)\t0.5836849367838205\n",
      "  (1, 2470)\t0.2642203177983341\n",
      "  (2, 1686)\t0.538775831521014\n",
      "  (2, 2086)\t0.538775831521014\n",
      "  (2, 1928)\t0.4579526213145197\n",
      "  (2, 2894)\t0.4579526213145197\n",
      "  (3, 1413)\t0.33361730229303815\n",
      "  (3, 1648)\t0.33361730229303815\n",
      "  (3, 3001)\t0.19105862345946986\n",
      "  (3, 1732)\t0.23223351021508729\n",
      "  :\t:\n",
      "  (1109, 889)\t0.321090158511031\n",
      "  (1110, 398)\t0.6191306903052041\n",
      "  (1110, 3148)\t0.6191306903052041\n",
      "  (1110, 742)\t0.48306767294490216\n",
      "  (1111, 875)\t0.3961142858659216\n",
      "  (1111, 844)\t0.4219157937260474\n",
      "  (1111, 2276)\t0.40771619928983743\n",
      "  (1111, 1315)\t0.34691285131657923\n",
      "  (1111, 1291)\t0.4219157937260474\n",
      "  (1111, 3185)\t0.302804882295801\n",
      "  (1111, 417)\t0.3298420473921517\n",
      "  (1112, 459)\t0.35229141583491885\n",
      "  (1112, 1175)\t0.35229141583491885\n",
      "  (1112, 2744)\t0.35229141583491885\n",
      "  (1112, 881)\t0.3327867243120156\n",
      "  (1112, 3214)\t0.3189479254421888\n",
      "  (1112, 3192)\t0.2856044350494587\n",
      "  (1112, 1806)\t0.2856044350494587\n",
      "  (1112, 1597)\t0.18126321683782085\n",
      "  (1112, 2718)\t0.27028538128730956\n",
      "  (1112, 2046)\t0.3822919881569914\n",
      "  (1113, 2610)\t0.5116670662854874\n",
      "  (1113, 2615)\t0.5116670662854874\n",
      "  (1113, 1955)\t0.5116670662854874\n",
      "  (1113, 558)\t0.4632390741684127\n"
     ]
    }
   ],
   "source": [
    "print(X_train_features)"
   ]
  },
  {
   "cell_type": "code",
   "execution_count": 25,
   "id": "4941ba2a",
   "metadata": {},
   "outputs": [],
   "source": [
    "Y_train = Y_train.astype('int')\n",
    "Y_test = Y_test.astype('int')"
   ]
  },
  {
   "cell_type": "code",
   "execution_count": 26,
   "id": "a57a00f9",
   "metadata": {},
   "outputs": [
    {
     "name": "stdout",
     "output_type": "stream",
     "text": [
      "2309    1\n",
      "3727    1\n",
      "385     1\n",
      "2300    1\n",
      "4857    1\n",
      "       ..\n",
      "789     1\n",
      "968     1\n",
      "1667    1\n",
      "3321    1\n",
      "1688    1\n",
      "Name: v1, Length: 1114, dtype: int32\n"
     ]
    }
   ],
   "source": [
    "print(Y_train)"
   ]
  },
  {
   "cell_type": "code",
   "execution_count": 27,
   "id": "a4bc7894",
   "metadata": {},
   "outputs": [],
   "source": [
    "# Model training"
   ]
  },
  {
   "cell_type": "code",
   "execution_count": 28,
   "id": "e9be1670",
   "metadata": {},
   "outputs": [],
   "source": [
    "model = LogisticRegression()"
   ]
  },
  {
   "cell_type": "code",
   "execution_count": 29,
   "id": "5ed7bd5d",
   "metadata": {},
   "outputs": [
    {
     "data": {
      "text/plain": [
       "LogisticRegression()"
      ]
     },
     "execution_count": 29,
     "metadata": {},
     "output_type": "execute_result"
    }
   ],
   "source": [
    "model.fit(X_train_features, Y_train)"
   ]
  },
  {
   "cell_type": "code",
   "execution_count": 30,
   "id": "852968af",
   "metadata": {},
   "outputs": [],
   "source": [
    "prediction_on_trainingdata = model.predict(X_train_features)\n",
    "accuracy_on_trainingdata = accuracy_score(Y_train , prediction_on_trainingdata)"
   ]
  },
  {
   "cell_type": "code",
   "execution_count": 31,
   "id": "0232986f",
   "metadata": {},
   "outputs": [
    {
     "name": "stdout",
     "output_type": "stream",
     "text": [
      "Accuracy on training dataset is:  0.9210053859964094\n"
     ]
    }
   ],
   "source": [
    "print(\"Accuracy on training dataset is: \",accuracy_on_trainingdata)"
   ]
  },
  {
   "cell_type": "code",
   "execution_count": 32,
   "id": "3d0cc9a4",
   "metadata": {},
   "outputs": [],
   "source": [
    "testing_data_prediction = model.predict(X_test_features)\n",
    "\n",
    "testing_data_accuracy = accuracy_score(Y_test , testing_data_prediction)"
   ]
  },
  {
   "cell_type": "code",
   "execution_count": 33,
   "id": "5910b291",
   "metadata": {},
   "outputs": [
    {
     "name": "stdout",
     "output_type": "stream",
     "text": [
      "Accuracy on testing dataset: 0.9062359802602064\n"
     ]
    }
   ],
   "source": [
    "print(\"Accuracy on testing dataset:\", testing_data_accuracy)"
   ]
  },
  {
   "cell_type": "code",
   "execution_count": 34,
   "id": "21bd5e93",
   "metadata": {},
   "outputs": [
    {
     "name": "stdout",
     "output_type": "stream",
     "text": [
      "The mail is a HAM mail\n"
     ]
    }
   ],
   "source": [
    "input = [\"I'm gonna be home soon and i don't want to talk about this stuff anymore tonight, k? I've cried enough today.\"]\n",
    "input = feature_extraction.transform(input)\n",
    "predict = model.predict(input)\n",
    "if(predict[0] == 1):\n",
    "    print(\"The mail is a HAM mail\")\n",
    "else:\n",
    "    print(\"The mail is a SPAM mail\")"
   ]
  },
  {
   "cell_type": "code",
   "execution_count": 39,
   "id": "d72bdb01",
   "metadata": {},
   "outputs": [],
   "source": [
    "def classify_sms():\n",
    "    input_text = entry.get()  # Geting text from the entry field\n",
    "    input_vectorized = feature_extraction.transform([input_text])  # Vectorizing the input text\n",
    "    \n",
    "    # Performing prediction using the model\n",
    "    prediction = model.predict(input_vectorized)\n",
    "    result = \"HAM\" if prediction[0] == 1 else \"SPAM\"\n",
    "    result_label.config(text=f\"The sms is a {result} mail\")\n",
    "\n",
    "# Creating the GUI window\n",
    "\n",
    "root = tk.Tk()\n",
    "root.title(\"Email Spam Classifier\")\n",
    "\n",
    "# Creating an input field\n",
    "entry = tk.Entry(root, width=50)\n",
    "entry.pack(padx=10, pady=10)\n",
    "\n",
    "# Creating a button to classify the email\n",
    "classify_button = tk.Button(root, text=\"Classify\", command=classify_sms)\n",
    "classify_button.pack(padx=10, pady=5)\n",
    "\n",
    "# Creating a label to display the result\n",
    "result_label = tk.Label(root, text=\"\")\n",
    "result_label.pack(padx=10, pady=5)\n",
    "\n",
    "# Running the main Tkinter event loop\n",
    "root.mainloop()"
   ]
  },
  {
   "cell_type": "code",
   "execution_count": null,
   "id": "e5be9310",
   "metadata": {},
   "outputs": [],
   "source": []
  },
  {
   "cell_type": "code",
   "execution_count": null,
   "id": "b011acb0",
   "metadata": {},
   "outputs": [],
   "source": []
  }
 ],
 "metadata": {
  "kernelspec": {
   "display_name": "Python 3 (ipykernel)",
   "language": "python",
   "name": "python3"
  },
  "language_info": {
   "codemirror_mode": {
    "name": "ipython",
    "version": 3
   },
   "file_extension": ".py",
   "mimetype": "text/x-python",
   "name": "python",
   "nbconvert_exporter": "python",
   "pygments_lexer": "ipython3",
   "version": "3.9.12"
  }
 },
 "nbformat": 4,
 "nbformat_minor": 5
}
